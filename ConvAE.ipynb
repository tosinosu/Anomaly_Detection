{
 "cells": [
  {
   "cell_type": "code",
   "execution_count": 1,
   "id": "fc1f8b66",
   "metadata": {},
   "outputs": [],
   "source": [
    "# Import libraries that will be needed for the lab\n",
    "import numpy as np\n",
    "import matplotlib.pyplot as plt\n",
    "from IPython.display import Image\n",
    "import os, datetime\n",
    "import seaborn as sns\n",
    "from PIL import Image\n",
    "\n",
    "import sklearn\n",
    "from sklearn.model_selection import train_test_split\n",
    "from sklearn.metrics import mean_squared_error, accuracy_score, precision_score, recall_score\n",
    "from sklearn.metrics import roc_curve, auc, confusion_matrix\n",
    "\n",
    "import tensorflow as tf\n",
    "from tensorflow.keras import optimizers, layers, losses, regularizers \n",
    "from tensorflow import keras\n",
    "from tensorflow.keras.models import Model\n",
    "from tensorflow.keras.layers import Input, Dense, Dropout\n",
    "from tensorflow.keras.utils import plot_model\n",
    "from tensorflow.keras.models import Model\n",
    "%load_ext tensorboard\n",
    "%matplotlib inline"
   ]
  },
  {
   "cell_type": "code",
   "execution_count": 276,
   "id": "a90a8104",
   "metadata": {},
   "outputs": [],
   "source": [
    "#!pip install tensorflow_gpu==2.10.0"
   ]
  },
  {
   "cell_type": "code",
   "execution_count": 277,
   "id": "18a2d44c",
   "metadata": {},
   "outputs": [
    {
     "data": {
      "text/html": [
       "<div>\n",
       "<style scoped>\n",
       "    .dataframe tbody tr th:only-of-type {\n",
       "        vertical-align: middle;\n",
       "    }\n",
       "\n",
       "    .dataframe tbody tr th {\n",
       "        vertical-align: top;\n",
       "    }\n",
       "\n",
       "    .dataframe thead th {\n",
       "        text-align: right;\n",
       "    }\n",
       "</style>\n",
       "<table border=\"1\" class=\"dataframe\">\n",
       "  <thead>\n",
       "    <tr style=\"text-align: right;\">\n",
       "      <th></th>\n",
       "      <th>Time</th>\n",
       "      <th>Identifier</th>\n",
       "      <th>Src_IP</th>\n",
       "      <th>Src_MAC</th>\n",
       "      <th>Dest_IP</th>\n",
       "      <th>Dest_MAC</th>\n",
       "      <th>Src_Port</th>\n",
       "      <th>Dest_Port</th>\n",
       "      <th>Proto</th>\n",
       "      <th>Seq_Num</th>\n",
       "      <th>Ack_Num</th>\n",
       "      <th>TCP_Flag</th>\n",
       "      <th>Window_Size</th>\n",
       "      <th>TCP_Checksum</th>\n",
       "      <th>Packet_Length</th>\n",
       "      <th>Payload</th>\n",
       "    </tr>\n",
       "  </thead>\n",
       "  <tbody>\n",
       "    <tr>\n",
       "      <th>0</th>\n",
       "      <td>1.518611e+09</td>\n",
       "      <td>6058</td>\n",
       "      <td>0</td>\n",
       "      <td>0</td>\n",
       "      <td>0</td>\n",
       "      <td>0</td>\n",
       "      <td>49459.0</td>\n",
       "      <td>80.0</td>\n",
       "      <td>6.0</td>\n",
       "      <td>4.148861e+09</td>\n",
       "      <td>1.694791e+09</td>\n",
       "      <td>PA</td>\n",
       "      <td>256.0</td>\n",
       "      <td>24061.0</td>\n",
       "      <td>375.0</td>\n",
       "      <td>1.732513</td>\n",
       "    </tr>\n",
       "    <tr>\n",
       "      <th>1</th>\n",
       "      <td>1.518611e+09</td>\n",
       "      <td>46552</td>\n",
       "      <td>1</td>\n",
       "      <td>1</td>\n",
       "      <td>1</td>\n",
       "      <td>1</td>\n",
       "      <td>80.0</td>\n",
       "      <td>49459.0</td>\n",
       "      <td>6.0</td>\n",
       "      <td>1.694791e+09</td>\n",
       "      <td>4.148861e+09</td>\n",
       "      <td>A</td>\n",
       "      <td>980.0</td>\n",
       "      <td>56192.0</td>\n",
       "      <td>1500.0</td>\n",
       "      <td>1.726963</td>\n",
       "    </tr>\n",
       "    <tr>\n",
       "      <th>2</th>\n",
       "      <td>1.518611e+09</td>\n",
       "      <td>46553</td>\n",
       "      <td>1</td>\n",
       "      <td>1</td>\n",
       "      <td>1</td>\n",
       "      <td>1</td>\n",
       "      <td>80.0</td>\n",
       "      <td>49459.0</td>\n",
       "      <td>6.0</td>\n",
       "      <td>1.694793e+09</td>\n",
       "      <td>4.148861e+09</td>\n",
       "      <td>PA</td>\n",
       "      <td>980.0</td>\n",
       "      <td>13256.0</td>\n",
       "      <td>262.0</td>\n",
       "      <td>1.732513</td>\n",
       "    </tr>\n",
       "    <tr>\n",
       "      <th>3</th>\n",
       "      <td>1.518611e+09</td>\n",
       "      <td>6059</td>\n",
       "      <td>0</td>\n",
       "      <td>0</td>\n",
       "      <td>0</td>\n",
       "      <td>0</td>\n",
       "      <td>49459.0</td>\n",
       "      <td>80.0</td>\n",
       "      <td>6.0</td>\n",
       "      <td>4.148861e+09</td>\n",
       "      <td>1.694793e+09</td>\n",
       "      <td>A</td>\n",
       "      <td>256.0</td>\n",
       "      <td>23726.0</td>\n",
       "      <td>40.0</td>\n",
       "      <td>1.542778</td>\n",
       "    </tr>\n",
       "    <tr>\n",
       "      <th>4</th>\n",
       "      <td>1.518611e+09</td>\n",
       "      <td>12238</td>\n",
       "      <td>0</td>\n",
       "      <td>0</td>\n",
       "      <td>2</td>\n",
       "      <td>0</td>\n",
       "      <td>137.0</td>\n",
       "      <td>137.0</td>\n",
       "      <td>17.0</td>\n",
       "      <td>4.148861e+09</td>\n",
       "      <td>1.694793e+09</td>\n",
       "      <td>A</td>\n",
       "      <td>256.0</td>\n",
       "      <td>23726.0</td>\n",
       "      <td>78.0</td>\n",
       "      <td>1.153846</td>\n",
       "    </tr>\n",
       "  </tbody>\n",
       "</table>\n",
       "</div>"
      ],
      "text/plain": [
       "           Time  Identifier  Src_IP  Src_MAC  Dest_IP  Dest_MAC  Src_Port  \\\n",
       "0  1.518611e+09        6058       0        0        0         0   49459.0   \n",
       "1  1.518611e+09       46552       1        1        1         1      80.0   \n",
       "2  1.518611e+09       46553       1        1        1         1      80.0   \n",
       "3  1.518611e+09        6059       0        0        0         0   49459.0   \n",
       "4  1.518611e+09       12238       0        0        2         0     137.0   \n",
       "\n",
       "   Dest_Port  Proto       Seq_Num       Ack_Num TCP_Flag  Window_Size  \\\n",
       "0       80.0    6.0  4.148861e+09  1.694791e+09       PA        256.0   \n",
       "1    49459.0    6.0  1.694791e+09  4.148861e+09        A        980.0   \n",
       "2    49459.0    6.0  1.694793e+09  4.148861e+09       PA        980.0   \n",
       "3       80.0    6.0  4.148861e+09  1.694793e+09        A        256.0   \n",
       "4      137.0   17.0  4.148861e+09  1.694793e+09        A        256.0   \n",
       "\n",
       "   TCP_Checksum  Packet_Length   Payload  \n",
       "0       24061.0          375.0  1.732513  \n",
       "1       56192.0         1500.0  1.726963  \n",
       "2       13256.0          262.0  1.732513  \n",
       "3       23726.0           40.0  1.542778  \n",
       "4       23726.0           78.0  1.153846  "
      ]
     },
     "execution_count": 277,
     "metadata": {},
     "output_type": "execute_result"
    }
   ],
   "source": [
    "# Download the dataset\n",
    "dataset = pd.read_csv('testw.csv')\n",
    "raw_data = dataset.values\n",
    "dataset=dataset.drop('Index', axis=1)\n",
    "dataset.head()"
   ]
  },
  {
   "cell_type": "code",
   "execution_count": 278,
   "id": "35c9fd6f",
   "metadata": {},
   "outputs": [],
   "source": [
    "\n",
    "freq_imputer = SimpleImputer(strategy='most_frequent')\n",
    "\n",
    "protocol = dataset.drop('Proto', axis=1)\n",
    "\n",
    "\n",
    "dataset.Proto = freq_imputer.fit_transform(protocol)\n",
    "\n",
    "# Calculate the mode value of column 'B'\n",
    "mode_value = dataset['TCP_Flag'].mode()[0]\n",
    "\n",
    "# Fill missing values in column 'B' with the mode value\n",
    "dataset['TCP_Flag'] = dataset['TCP_Flag'].fillna(mode_value)\n",
    "#Drop a row where the source port and destination ports are not known\n",
    "\n",
    "dataset = dataset.dropna(subset=[\"Dest_Port\"])\n"
   ]
  },
  {
   "cell_type": "code",
   "execution_count": 279,
   "id": "4fea2d00",
   "metadata": {},
   "outputs": [],
   "source": [
    "dataset.Ack_Num = dataset.Ack_Num.fillna(0)#zero_imputer.fit_transform(ack_num)\n",
    "dataset.Seq_Num = dataset.Seq_Num.fillna(0)#zero_imputer.fit_transform(seq_num)"
   ]
  },
  {
   "cell_type": "code",
   "execution_count": 280,
   "id": "e7d19d35",
   "metadata": {},
   "outputs": [],
   "source": [
    "dataset[['TCP_Checksum', 'Packet_Length', 'Window_Size']] = dataset[['TCP_Checksum', 'Packet_Length', 'Window_Size']].fillna(dataset[['TCP_Checksum', 'Packet_Length', 'Window_Size']].median())"
   ]
  },
  {
   "cell_type": "code",
   "execution_count": 281,
   "id": "feeba581",
   "metadata": {},
   "outputs": [],
   "source": [
    "ord_encoder = OrdinalEncoder()\n",
    "dataset['TCP_Flag'] = ord_encoder.fit_transform(dataset[['TCP_Flag']])"
   ]
  },
  {
   "cell_type": "code",
   "execution_count": 2,
   "id": "a52284e3",
   "metadata": {},
   "outputs": [],
   "source": [
    "train_datagen = tf.keras.preprocessing.image.ImageDataGenerator(\n",
    "    rescale=1./255,\n",
    "    validation_split=0.2\n",
    ")\n",
    "test_datagen = tf.keras.preprocessing.image.ImageDataGenerator(rescale=1./255)\n"
   ]
  },
  {
   "cell_type": "code",
   "execution_count": 3,
   "id": "6ab56004",
   "metadata": {},
   "outputs": [
    {
     "name": "stdout",
     "output_type": "stream",
     "text": [
      "Found 14286 images belonging to 2 classes.\n",
      "Found 3571 images belonging to 2 classes.\n"
     ]
    }
   ],
   "source": [
    "train_data_dir='ImageDataset2/Training'\n",
    "test_data_dir='ImageDataset2/Testing'\n",
    "directory='ImageDataset'\n",
    "IMAGE_SIZE=(64, 64)\n",
    "BATCH_SIZE =100\n",
    "# Import dataset\n",
    "train_dataset_cnn = train_datagen.flow_from_directory(train_data_dir, target_size=IMAGE_SIZE, #color_mode='grayscale', seed=42,\n",
    "    batch_size=BATCH_SIZE, subset='training', shuffle=True,  class_mode='input')\n",
    "#train_dataset_cnn = tf.keras.utils.image_dataset_from_directory('ImageDataset/train', labels=None, color_mode='rgb',\n",
    " #                   image_size=(128, 128), batch_size=32, shuffle=True, seed=42, \n",
    "  #                  validation_split=0.2,subset='training')\n",
    "\n",
    "# Import dataset\n",
    "#\n",
    "val_dataset_cnn = train_datagen.flow_from_directory(train_data_dir, target_size=IMAGE_SIZE, #color_mode='grayscale', seed=42,\n",
    "    batch_size=BATCH_SIZE, subset='validation', shuffle=True,  class_mode='input')\n",
    "#val_dataset_cnn = dataset_augmentation.flow_from_directory(train_data_dir, target_size=image_size, color_mode='grayscale',\n",
    "#    batch_size=batch_size, subset='validation', shuffle=True, seed=42, class_mode='input')"
   ]
  },
  {
   "cell_type": "code",
   "execution_count": 300,
   "id": "7ed4a4ce",
   "metadata": {},
   "outputs": [
    {
     "data": {
      "text/plain": [
       "0"
      ]
     },
     "execution_count": 300,
     "metadata": {},
     "output_type": "execute_result"
    }
   ],
   "source": [
    "train_dataset_cnn"
   ]
  },
  {
   "cell_type": "code",
   "execution_count": 285,
   "id": "3998d0a6",
   "metadata": {},
   "outputs": [],
   "source": [
    "#normalization_layer = layers.Rescaling(1./255)"
   ]
  },
  {
   "cell_type": "code",
   "execution_count": 302,
   "id": "5ec7ae90",
   "metadata": {},
   "outputs": [],
   "source": [
    "#test_dataset_cnn = tf.keras.utils.image_dataset_from_directory('ImageDataset/test', labels=None, color_mode='rgb', \n",
    " #                                                               batch_size=32, image_size=(128, 128), shuffle=True, seed=42)\n",
    "\n",
    "#test_dataset_cnn = train_datagen.flow_from_directory(test_data_dir, target_size=IMAGE_SIZE, #color_mode='grayscale', seed=42,\n",
    "#    batch_size=BATCH_SIZE, subset='testing', shuffle=True,  class_mode='input')"
   ]
  },
  {
   "cell_type": "code",
   "execution_count": 287,
   "id": "b03c1fd0",
   "metadata": {},
   "outputs": [],
   "source": [
    "# Configure the dataset for performance\n",
    "#train_dataset_cnn = train_dataset_cnn.prefetch(buffer_size=tf.data.experimental.AUTOTUNE)\n",
    "#val_dataset_cnn = val_dataset_cnn.prefetch(buffer_size=tf.data.experimental.AUTOTUNE)\n",
    "#test_dataset_cnn = test_dataset_cnn.prefetch(buffer_size=tf.data.experimental.AUTOTUNE)\n"
   ]
  },
  {
   "cell_type": "code",
   "execution_count": 4,
   "id": "d4114212",
   "metadata": {},
   "outputs": [],
   "source": [
    "train_examples_num = train_dataset_cnn.samples   #len(os.listdir(train_data_dir+'/train'))\n",
    "#test_examples_num  = test_dataset_cnn.samples   #len(os.listdir(test_data_dir+'/test'))\n",
    "val_examples_num   = val_dataset_cnn.samples"
   ]
  },
  {
   "cell_type": "code",
   "execution_count": 289,
   "id": "1778d399",
   "metadata": {},
   "outputs": [],
   "source": [
    "#def change_inputs(images):\n",
    "#    x = tf.image.resize(normalization_layer(images),[128, 128], method=tf.image.ResizeMethod.NEAREST_NEIGHBOR)\n",
    "#    return x, x"
   ]
  },
  {
   "cell_type": "code",
   "execution_count": 290,
   "id": "64772db1",
   "metadata": {},
   "outputs": [],
   "source": [
    "#train_dataset_cnn =  train_dataset_cnn.map(lambda x: normalization_layer(x))\n",
    "\n",
    "#train_dataset_cnn =  train_dataset_cnn.map(change_inputs)\n",
    "\n",
    "#train_dataset_cnn = np.reshape(train_dataset_cnn, (len(train_dataset_cnn), 128, 128, 1))\n",
    "#test_dataset_cnn = np.reshape(test_dataset_cnn, (len(test_dataset_cnn),  28, 28, 1))\n",
    "\n",
    "# Loading the dataset in cache memory\n",
    "#train_dataset_cnn =  train_dataset_cnn.cache()\n",
    "#test_dataset_cnn  =  test_dataset_cnn.cache()"
   ]
  },
  {
   "cell_type": "code",
   "execution_count": 5,
   "id": "6f3b48e9",
   "metadata": {},
   "outputs": [
    {
     "data": {
      "text/plain": [
       "14286"
      ]
     },
     "execution_count": 5,
     "metadata": {},
     "output_type": "execute_result"
    }
   ],
   "source": [
    "train_dataset_cnn.samples"
   ]
  },
  {
   "cell_type": "code",
   "execution_count": 6,
   "id": "0c8b9c36",
   "metadata": {},
   "outputs": [
    {
     "name": "stdout",
     "output_type": "stream",
     "text": [
      "0.003921569 0.9921569\n"
     ]
    }
   ],
   "source": [
    "image_batch, _ = next(iter(train_dataset_cnn))\n",
    "first_image = image_batch[0]\n",
    "# Notice the pixel values are now in `[0,1]`.\n",
    "print(np.min(first_image), np.max(first_image))"
   ]
  },
  {
   "cell_type": "code",
   "execution_count": 268,
   "id": "8aa5df21",
   "metadata": {},
   "outputs": [
    {
     "data": {
      "text/plain": [
       "'folder_path = \\'ImageDataset2/Training/\\'\\nextensions = []\\nfor fldr in os.listdir(folder_path):\\n    sub_folder_path = os.path.join(folder_path, fldr)\\n    for filee in os.listdir(sub_folder_path):\\n        \\n        file_path = os.path.join(sub_folder_path, filee)\\n        print(\\'** Path: {}  **\\'.format(file_path), end=\"\\r\", flush=True)\\n        try:    \\n            im = Image.open(file_path)\\n        except:\\n            print(f\\'image {file_path} was removed\\')\\n            os.remove(file_path)\\n   \\n        rgb_im = im.convert(\\'RGB\\')\\n        if filee.split(\\'.\\')[1] not in extensions:\\n            extensions.append(filee.split(\\'.\\')[1])'"
      ]
     },
     "execution_count": 268,
     "metadata": {},
     "output_type": "execute_result"
    }
   ],
   "source": [
    "\"\"\"folder_path = 'ImageDataset2/Training/'\n",
    "extensions = []\n",
    "for fldr in os.listdir(folder_path):\n",
    "    sub_folder_path = os.path.join(folder_path, fldr)\n",
    "    for filee in os.listdir(sub_folder_path):\n",
    "        \n",
    "        file_path = os.path.join(sub_folder_path, filee)\n",
    "        print('** Path: {}  **'.format(file_path), end=\"\\r\", flush=True)\n",
    "        try:    \n",
    "            im = Image.open(file_path)\n",
    "        except:\n",
    "            print(f'image {file_path} was removed')\n",
    "            os.remove(file_path)\n",
    "   \n",
    "        rgb_im = im.convert('RGB')\n",
    "        if filee.split('.')[1] not in extensions:\n",
    "            extensions.append(filee.split('.')[1])\"\"\""
   ]
  },
  {
   "cell_type": "code",
   "execution_count": 7,
   "id": "a7da3207",
   "metadata": {},
   "outputs": [],
   "source": [
    "# This function will plot images in the form of a grid with 1 row and 5 columns where images are placed in each column.\n",
    "def plotImages(images_arr):\n",
    "    fig, axes = plt.subplots(1, 5, figsize=(20,20))\n",
    "    axes = axes.flatten()\n",
    "    for img, ax in zip(images_arr, axes):\n",
    "        ax.imshow(img)\n",
    "    plt.tight_layout()\n",
    "    plt.show()"
   ]
  },
  {
   "cell_type": "code",
   "execution_count": 8,
   "id": "04018db2",
   "metadata": {},
   "outputs": [
    {
     "data": {
      "image/png": "[encoded data removed]",
      "text/plain": [
       "<Figure size 1440x1440 with 5 Axes>"
      ]
     },
     "metadata": {
      "needs_background": "light"
     },
     "output_type": "display_data"
    }
   ],
   "source": [
    "augmented_images = [train_dataset_cnn[i][0][0] for i in range(5)]\n",
    "plotImages(augmented_images)"
   ]
  },
  {
   "cell_type": "code",
   "execution_count": 145,
   "id": "0a68e7e1",
   "metadata": {},
   "outputs": [],
   "source": [
    "\"\"\"input_shape=(64, 64, 3)\n",
    "#class ConvAutoencoder(Model):\n",
    "#    def __init__(self):\n",
    "#        super(ConvAutoencoder, self).__init__()\n",
    "cnnencoder =  tf.keras.Sequential([\n",
    "              tf.keras.layers.Conv2D(128, (3,3), padding='same', activation=tf.nn.relu,\n",
    "                                               input_shape=input_shape),\n",
    "              tf.keras.layers.MaxPooling2D((2, 2), strides=2),\n",
    "              tf.keras.layers.Conv2D(64, (3,3), padding='same', activation=tf.nn.relu),\n",
    "              tf.keras.layers.MaxPooling2D((2, 2), strides=2),\n",
    "              tf.keras.layers.Conv2D(32, (3,3), padding='same', activation=tf.nn.relu),\n",
    "              tf.keras.layers.MaxPooling2D((2, 2), strides=2)\n",
    "                        #tf.keras.layers.Flatten(),\n",
    "                        #tf.keras.layers.Dense(128, activation=tf.nn.relu)\n",
    "                        #tf.keras.layers.Dense(10, activation=tf.nn.relu)\n",
    "              ])\n",
    "\n",
    "cnndecoder = tf.keras.Sequential([\n",
    "             #tf.keras.layers.Dense(10, activation=tf.nn.relu),\n",
    "             #tf.keras.layers.Dense(128, activation=tf.nn.relu),\n",
    "            #tf.keras.layers.Flatten(),\n",
    "            tf.keras.layers.Conv2D(32, (3,3), padding='same', activation=tf.nn.relu),\n",
    "            tf.keras.layers.UpSampling2D((2, 2)),\n",
    "            tf.keras.layers.Conv2D(64, (3,3), padding='same', activation=tf.nn.relu),\n",
    "            tf.keras.layers.UpSampling2D((2, 2)),\n",
    "            tf.keras.layers.Conv2D(3, (3,3), padding='same', activation=tf.nn.sigmoid),\n",
    "            tf.keras.layers.UpSampling2D((2, 2))\n",
    "            ])\n",
    "        \n",
    "  #  def call(self, x):\n",
    "   #     encoded = self.cnnencoder(x)\n",
    "        \n",
    "    #    decoded = self.cnndecoder(encoded)\n",
    "     #   return decoded\n",
    "\n",
    "conv_autoencoder = tf.keras.models.Sequential([\n",
    "    cnnencoder,\n",
    "    cnndecoder\n",
    "])\"\"\""
   ]
  },
  {
   "cell_type": "code",
   "execution_count": 146,
   "id": "849290ae",
   "metadata": {},
   "outputs": [],
   "source": [
    "#conv_autoencoder.compile(optimizer='adam', loss='binary_crossentropy', metrics=['accuracy'])"
   ]
  },
  {
   "cell_type": "code",
   "execution_count": 147,
   "id": "1ea48391",
   "metadata": {},
   "outputs": [
    {
     "name": "stdout",
     "output_type": "stream",
     "text": [
      "Model: \"sequential_17\"\n",
      "_________________________________________________________________\n",
      " Layer (type)                Output Shape              Param #   \n",
      "=================================================================\n",
      " sequential_15 (Sequential)  (None, 8, 8, 32)          95840     \n",
      "                                                                 \n",
      " sequential_16 (Sequential)  (None, 64, 64, 3)         29475     \n",
      "                                                                 \n",
      "=================================================================\n",
      "Total params: 125,315\n",
      "Trainable params: 125,315\n",
      "Non-trainable params: 0\n",
      "_________________________________________________________________\n"
     ]
    }
   ],
   "source": [
    "#conv_autoencoder.summary()"
   ]
  },
  {
   "cell_type": "code",
   "execution_count": 148,
   "id": "f73a5e47",
   "metadata": {},
   "outputs": [],
   "source": [
    "#logdir = os.path.join(\"ConvAElogs\", datetime.datetime.now().strftime(\"%Y%m%d-%H%M%S\"))\n",
    "#tensorboard_callback = tf.keras.callbacks.TensorBoard(logdir,profile_batch=0,update_freq='epoch',histogram_freq=1)\n"
   ]
  },
  {
   "cell_type": "code",
   "execution_count": 149,
   "id": "97f4b04b",
   "metadata": {},
   "outputs": [],
   "source": [
    "#Strop training when overfitting is detected\n",
    "#early_stopping = tf.keras.callbacks.EarlyStopping(monitor='accuracy', \n",
    "#                                                  patience=5, \n",
    "#                                                  min_delta=0.001, \n",
    "#                                                  mode='auto', \n",
    "#                                                  verbose=2, \n",
    "#                                                  baseline=None, \n",
    "#                                                  restore_best_weights=True)\n"
   ]
  },
  {
   "cell_type": "code",
   "execution_count": 150,
   "id": "73ac7bbf",
   "metadata": {},
   "outputs": [
    {
     "name": "stdout",
     "output_type": "stream",
     "text": [
      "Epoch 1/200\n",
      "143/143 [==============================] - 97s 675ms/step - loss: 0.4774 - accuracy: 0.7469 - val_loss: 0.4578 - val_accuracy: 0.8123\n",
      "Epoch 2/200\n",
      "143/143 [==============================] - 113s 789ms/step - loss: 0.4552 - accuracy: 0.8631 - val_loss: 0.4539 - val_accuracy: 0.8912\n",
      "Epoch 3/200\n",
      "143/143 [==============================] - 113s 791ms/step - loss: 0.4535 - accuracy: 0.8995 - val_loss: 0.4530 - val_accuracy: 0.9064\n",
      "Epoch 4/200\n",
      "143/143 [==============================] - 113s 791ms/step - loss: 0.4528 - accuracy: 0.9094 - val_loss: 0.4530 - val_accuracy: 0.9126\n",
      "Epoch 5/200\n",
      "143/143 [==============================] - 112s 787ms/step - loss: 0.4526 - accuracy: 0.9146 - val_loss: 0.4526 - val_accuracy: 0.9175\n",
      "Epoch 6/200\n",
      "143/143 [==============================] - 112s 786ms/step - loss: 0.4524 - accuracy: 0.9182 - val_loss: 0.4523 - val_accuracy: 0.9232\n",
      "Epoch 7/200\n",
      "143/143 [==============================] - 414s 3s/step - loss: 0.4522 - accuracy: 0.9231 - val_loss: 0.4522 - val_accuracy: 0.9244\n",
      "Epoch 8/200\n",
      "143/143 [==============================] - 112s 781ms/step - loss: 0.4521 - accuracy: 0.9255 - val_loss: 0.4521 - val_accuracy: 0.9262\n",
      "Epoch 9/200\n",
      "143/143 [==============================] - 122s 852ms/step - loss: 0.4521 - accuracy: 0.9262 - val_loss: 0.4521 - val_accuracy: 0.9279\n",
      "Epoch 10/200\n",
      "143/143 [==============================] - 112s 783ms/step - loss: 0.4520 - accuracy: 0.9280 - val_loss: 0.4520 - val_accuracy: 0.9274\n",
      "Epoch 11/200\n",
      "143/143 [==============================] - 112s 782ms/step - loss: 0.4520 - accuracy: 0.9283 - val_loss: 0.4519 - val_accuracy: 0.9289\n",
      "Epoch 12/200\n",
      "143/143 [==============================] - 113s 788ms/step - loss: 0.4520 - accuracy: 0.9285 - val_loss: 0.4519 - val_accuracy: 0.9276\n",
      "Epoch 13/200\n",
      "143/143 [==============================] - 112s 783ms/step - loss: 0.4519 - accuracy: 0.9296 - val_loss: 0.4519 - val_accuracy: 0.9299\n",
      "Epoch 14/200\n",
      "143/143 [==============================] - 484s 3s/step - loss: 0.4519 - accuracy: 0.9300 - val_loss: 0.4519 - val_accuracy: 0.9306\n",
      "Epoch 15/200\n",
      "143/143 [==============================] - 108s 758ms/step - loss: 0.4519 - accuracy: 0.9302 - val_loss: 0.4519 - val_accuracy: 0.9305\n",
      "Epoch 16/200\n",
      "143/143 [==============================] - 114s 798ms/step - loss: 0.4519 - accuracy: 0.9303 - val_loss: 0.4518 - val_accuracy: 0.9305\n",
      "Epoch 17/200\n",
      "143/143 [==============================] - 113s 789ms/step - loss: 0.4519 - accuracy: 0.9303 - val_loss: 0.4518 - val_accuracy: 0.9303\n",
      "Epoch 18/200\n",
      "143/143 [==============================] - ETA: 0s - loss: 0.4519 - accuracy: 0.9301Restoring model weights from the end of the best epoch: 13.\n",
      "143/143 [==============================] - 118s 825ms/step - loss: 0.4519 - accuracy: 0.9301 - val_loss: 0.4518 - val_accuracy: 0.9305\n",
      "Epoch 18: early stopping\n"
     ]
    }
   ],
   "source": [
    "#cnn_training = conv_autoencoder.fit(train_dataset_cnn, \n",
    "#                                    epochs=200, \n",
    "#                                    steps_per_epoch=int(np.ceil(train_examples_num / float(BATCH_SIZE))), \n",
    "#                                    validation_data= val_dataset_cnn,\n",
    "#                                    validation_steps=int(np.ceil(val_examples_num / float(BATCH_SIZE))),\n",
    "#                                    shuffle=True, \n",
    "#                                    batch_size=128, \n",
    "#                                    callbacks=[tensorboard_callback, early_stopping])"
   ]
  },
  {
   "cell_type": "code",
   "execution_count": 195,
   "id": "188cc05d",
   "metadata": {},
   "outputs": [
    {
     "name": "stderr",
     "output_type": "stream",
     "text": [
      "WARNING:absl:Found untraced functions such as _jit_compiled_convolution_op, _jit_compiled_convolution_op, _jit_compiled_convolution_op, _jit_compiled_convolution_op, _jit_compiled_convolution_op while saving (showing 5 of 6). These functions will not be directly callable after loading.\n"
     ]
    },
    {
     "name": "stdout",
     "output_type": "stream",
     "text": [
      "INFO:tensorflow:Assets written to: tensormodel/newConvoAE\\assets\n"
     ]
    },
    {
     "name": "stderr",
     "output_type": "stream",
     "text": [
      "INFO:tensorflow:Assets written to: tensormodel/newConvoAE\\assets\n"
     ]
    }
   ],
   "source": [
    "#tf.saved_model.save(conv_autoencoder, 'tensormodel/convoAE')\n",
    "#conv_autoencoder.save('CNNAE.h5')\n",
    "#new_model = tf.keras.models.load_model('saved_model/my_model')"
   ]
  },
  {
   "cell_type": "code",
   "execution_count": 211,
   "id": "8895f5ee",
   "metadata": {},
   "outputs": [],
   "source": [
    "file = open('CNNAE_loss_acc_records.txt', 'w')\n",
    "file.write(str(cnn_training.history))\n",
    "file.close()"
   ]
  },
  {
   "cell_type": "code",
   "execution_count": 13,
   "id": "635d7728",
   "metadata": {},
   "outputs": [],
   "source": [
    "# Loading the model\n",
    "convolutionAE = tf.keras.models.load_model('CNNAE.h5')\n",
    "#convolutionAE = tf.keras.models.load_model('tensormodel/newConvoAE')"
   ]
  },
  {
   "cell_type": "code",
   "execution_count": 223,
   "id": "b9f6ebc9",
   "metadata": {},
   "outputs": [
    {
     "data": {
      "image/png": "[encoded data removed]",
      "text/plain": [
       "<Figure size 1080x360 with 2 Axes>"
      ]
     },
     "metadata": {
      "needs_background": "light"
     },
     "output_type": "display_data"
    }
   ],
   "source": [
    "\n",
    "\n",
    "plt.figure(figsize=(15, 5))\n",
    "plt.subplot(1, 2, 1)\n",
    "plt.plot(cnn_training.history['loss'], label=\"Training Loss\")\n",
    "plt.plot(cnn_training.history[\"val_loss\"], label=\"Validation Loss\")\n",
    "plt.legend()\n",
    "\n",
    "\n",
    "plt.subplot(1, 2, 2)\n",
    "plt.plot(cnn_training.history[\"accuracy\"], label=\"Training Accuracy\")\n",
    "plt.plot(cnn_training.history[\"val_accuracy\"], label=\"Validation Accuracy\")\n",
    "plt.legend()\n",
    "\n",
    "plt.savefig('CNNAE Training_Loss_Accuracy.png')\n",
    "\n",
    "plt.show()\n"
   ]
  },
  {
   "cell_type": "code",
   "execution_count": 14,
   "id": "fa073182",
   "metadata": {},
   "outputs": [
    {
     "name": "stdout",
     "output_type": "stream",
     "text": [
      "143/143 [==============================] - 102s 712ms/step\n"
     ]
    }
   ],
   "source": [
    "reconstructed = convolutionAE.predict(train_dataset_cnn)\n",
    "#decoded_imgs = autoencoder.predict(x_test)"
   ]
  },
  {
   "cell_type": "code",
   "execution_count": 272,
   "id": "2259d5a6",
   "metadata": {},
   "outputs": [
    {
     "data": {
      "image/png": "[encoded data removed]",
      "text/plain": [
       "<Figure size 1440x1440 with 5 Axes>"
      ]
     },
     "metadata": {
      "needs_background": "light"
     },
     "output_type": "display_data"
    },
    {
     "data": {
      "image/png": "[encoded data removed]",
      "text/plain": [
       "<Figure size 1440x1440 with 5 Axes>"
      ]
     },
     "metadata": {
      "needs_background": "light"
     },
     "output_type": "display_data"
    }
   ],
   "source": [
    "augmented_images = [train_dataset_cnn[i][0][0] for i in range(5)]\n",
    "plotImages(augmented_images)\n",
    "\n",
    "rec_images = [reconstructed[i] for i in range(5)]\n",
    "plotImages(rec_images)"
   ]
  },
  {
   "cell_type": "code",
   "execution_count": 406,
   "id": "39a55dc3",
   "metadata": {},
   "outputs": [
    {
     "data": {
      "text/plain": [
       "keras.preprocessing.image.DirectoryIterator"
      ]
     },
     "execution_count": 406,
     "metadata": {},
     "output_type": "execute_result"
    }
   ],
   "source": [
    "type(train_dataset_cnn)"
   ]
  },
  {
   "cell_type": "code",
   "execution_count": 402,
   "id": "d2011272",
   "metadata": {},
   "outputs": [
    {
     "ename": "InvalidArgumentError",
     "evalue": "{{function_node __wrapped__Mul_device_/job:localhost/replica:0/task:0/device:CPU:0}} Incompatible shapes: [100,64,64,3] vs. [14286,64,64,3] [Op:Mul]",
     "output_type": "error",
     "traceback": [
      "\u001b[1;31m---------------------------------------------------------------------------\u001b[0m",
      "\u001b[1;31mInvalidArgumentError\u001b[0m                      Traceback (most recent call last)",
      "Input \u001b[1;32mIn [402]\u001b[0m, in \u001b[0;36m<cell line: 4>\u001b[1;34m()\u001b[0m\n\u001b[0;32m      4\u001b[0m \u001b[38;5;28;01mfor\u001b[39;00m i \u001b[38;5;129;01min\u001b[39;00m \u001b[38;5;28mrange\u001b[39m(\u001b[38;5;28mlen\u001b[39m(train_dataset_cnn)):\n\u001b[0;32m      5\u001b[0m     real_samples, _ \u001b[38;5;241m=\u001b[39m train_dataset_cnn[i]\n\u001b[1;32m----> 6\u001b[0m     batch_loss \u001b[38;5;241m=\u001b[39m \u001b[43mtf\u001b[49m\u001b[38;5;241;43m.\u001b[39;49m\u001b[43mkeras\u001b[49m\u001b[38;5;241;43m.\u001b[39;49m\u001b[43mlosses\u001b[49m\u001b[38;5;241;43m.\u001b[39;49m\u001b[43mbinary_crossentropy\u001b[49m\u001b[43m(\u001b[49m\u001b[43mreal_samples\u001b[49m\u001b[43m,\u001b[49m\u001b[43m \u001b[49m\u001b[43mreconstructed\u001b[49m\u001b[43m)\u001b[49m\n\u001b[0;32m      7\u001b[0m     total_loss \u001b[38;5;241m+\u001b[39m\u001b[38;5;241m=\u001b[39m batch_loss\u001b[38;5;241m.\u001b[39mnumpy()\u001b[38;5;241m.\u001b[39mmean()\n\u001b[0;32m      8\u001b[0m     num_batches \u001b[38;5;241m+\u001b[39m\u001b[38;5;241m=\u001b[39m \u001b[38;5;241m1\u001b[39m\n",
      "File \u001b[1;32m~\\anaconda3\\lib\\site-packages\\tensorflow\\python\\util\\traceback_utils.py:153\u001b[0m, in \u001b[0;36mfilter_traceback.<locals>.error_handler\u001b[1;34m(*args, **kwargs)\u001b[0m\n\u001b[0;32m    151\u001b[0m \u001b[38;5;28;01mexcept\u001b[39;00m \u001b[38;5;167;01mException\u001b[39;00m \u001b[38;5;28;01mas\u001b[39;00m e:\n\u001b[0;32m    152\u001b[0m   filtered_tb \u001b[38;5;241m=\u001b[39m _process_traceback_frames(e\u001b[38;5;241m.\u001b[39m__traceback__)\n\u001b[1;32m--> 153\u001b[0m   \u001b[38;5;28;01mraise\u001b[39;00m e\u001b[38;5;241m.\u001b[39mwith_traceback(filtered_tb) \u001b[38;5;28;01mfrom\u001b[39;00m \u001b[38;5;28mNone\u001b[39m\n\u001b[0;32m    154\u001b[0m \u001b[38;5;28;01mfinally\u001b[39;00m:\n\u001b[0;32m    155\u001b[0m   \u001b[38;5;28;01mdel\u001b[39;00m filtered_tb\n",
      "File \u001b[1;32m~\\anaconda3\\lib\\site-packages\\keras\\losses.py:2162\u001b[0m, in \u001b[0;36mbinary_crossentropy\u001b[1;34m(y_true, y_pred, from_logits, label_smoothing, axis)\u001b[0m\n\u001b[0;32m   2155\u001b[0m     \u001b[38;5;28;01mreturn\u001b[39;00m y_true \u001b[38;5;241m*\u001b[39m (\u001b[38;5;241m1.0\u001b[39m \u001b[38;5;241m-\u001b[39m label_smoothing) \u001b[38;5;241m+\u001b[39m \u001b[38;5;241m0.5\u001b[39m \u001b[38;5;241m*\u001b[39m label_smoothing\n\u001b[0;32m   2157\u001b[0m y_true \u001b[38;5;241m=\u001b[39m tf\u001b[38;5;241m.\u001b[39m__internal__\u001b[38;5;241m.\u001b[39msmart_cond\u001b[38;5;241m.\u001b[39msmart_cond(\n\u001b[0;32m   2158\u001b[0m     label_smoothing, _smooth_labels, \u001b[38;5;28;01mlambda\u001b[39;00m: y_true\n\u001b[0;32m   2159\u001b[0m )\n\u001b[0;32m   2161\u001b[0m \u001b[38;5;28;01mreturn\u001b[39;00m backend\u001b[38;5;241m.\u001b[39mmean(\n\u001b[1;32m-> 2162\u001b[0m     \u001b[43mbackend\u001b[49m\u001b[38;5;241;43m.\u001b[39;49m\u001b[43mbinary_crossentropy\u001b[49m\u001b[43m(\u001b[49m\u001b[43my_true\u001b[49m\u001b[43m,\u001b[49m\u001b[43m \u001b[49m\u001b[43my_pred\u001b[49m\u001b[43m,\u001b[49m\u001b[43m \u001b[49m\u001b[43mfrom_logits\u001b[49m\u001b[38;5;241;43m=\u001b[39;49m\u001b[43mfrom_logits\u001b[49m\u001b[43m)\u001b[49m,\n\u001b[0;32m   2163\u001b[0m     axis\u001b[38;5;241m=\u001b[39maxis,\n\u001b[0;32m   2164\u001b[0m )\n",
      "File \u001b[1;32m~\\anaconda3\\lib\\site-packages\\keras\\backend.py:5685\u001b[0m, in \u001b[0;36mbinary_crossentropy\u001b[1;34m(target, output, from_logits)\u001b[0m\n\u001b[0;32m   5682\u001b[0m output \u001b[38;5;241m=\u001b[39m tf\u001b[38;5;241m.\u001b[39mclip_by_value(output, epsilon_, \u001b[38;5;241m1.0\u001b[39m \u001b[38;5;241m-\u001b[39m epsilon_)\n\u001b[0;32m   5684\u001b[0m \u001b[38;5;66;03m# Compute cross entropy from probabilities.\u001b[39;00m\n\u001b[1;32m-> 5685\u001b[0m bce \u001b[38;5;241m=\u001b[39m \u001b[43mtarget\u001b[49m\u001b[43m \u001b[49m\u001b[38;5;241;43m*\u001b[39;49m\u001b[43m \u001b[49m\u001b[43mtf\u001b[49m\u001b[38;5;241;43m.\u001b[39;49m\u001b[43mmath\u001b[49m\u001b[38;5;241;43m.\u001b[39;49m\u001b[43mlog\u001b[49m\u001b[43m(\u001b[49m\u001b[43moutput\u001b[49m\u001b[43m \u001b[49m\u001b[38;5;241;43m+\u001b[39;49m\u001b[43m \u001b[49m\u001b[43mepsilon\u001b[49m\u001b[43m(\u001b[49m\u001b[43m)\u001b[49m\u001b[43m)\u001b[49m\n\u001b[0;32m   5686\u001b[0m bce \u001b[38;5;241m+\u001b[39m\u001b[38;5;241m=\u001b[39m (\u001b[38;5;241m1\u001b[39m \u001b[38;5;241m-\u001b[39m target) \u001b[38;5;241m*\u001b[39m tf\u001b[38;5;241m.\u001b[39mmath\u001b[38;5;241m.\u001b[39mlog(\u001b[38;5;241m1\u001b[39m \u001b[38;5;241m-\u001b[39m output \u001b[38;5;241m+\u001b[39m epsilon())\n\u001b[0;32m   5687\u001b[0m \u001b[38;5;28;01mreturn\u001b[39;00m \u001b[38;5;241m-\u001b[39mbce\n",
      "\u001b[1;31mInvalidArgumentError\u001b[0m: {{function_node __wrapped__Mul_device_/job:localhost/replica:0/task:0/device:CPU:0}} Incompatible shapes: [100,64,64,3] vs. [14286,64,64,3] [Op:Mul]"
     ]
    }
   ],
   "source": [
    "total_loss = 0\n",
    "num_batches = 0\n",
    "\n",
    "for i in range(len(train_dataset_cnn)):\n",
    "    real_samples, _ = train_dataset_cnn[i]\n",
    "    batch_loss = tf.keras.losses.binary_crossentropy(real_samples, reconstructed)\n",
    "    total_loss += batch_loss.numpy().mean()\n",
    "    num_batches += 1\n"
   ]
  },
  {
   "cell_type": "code",
   "execution_count": 386,
   "id": "09a506ef",
   "metadata": {},
   "outputs": [
    {
     "ename": "InvalidArgumentError",
     "evalue": "{{function_node __wrapped__Mul_device_/job:localhost/replica:0/task:0/device:CPU:0}} Incompatible shapes: [100,64,64,3] vs. [14286,64,64,3] [Op:Mul]",
     "output_type": "error",
     "traceback": [
      "\u001b[1;31m---------------------------------------------------------------------------\u001b[0m",
      "\u001b[1;31mInvalidArgumentError\u001b[0m                      Traceback (most recent call last)",
      "Input \u001b[1;32mIn [386]\u001b[0m, in \u001b[0;36m<cell line: 1>\u001b[1;34m()\u001b[0m\n\u001b[1;32m----> 1\u001b[0m train_loss \u001b[38;5;241m=\u001b[39m \u001b[43mtf\u001b[49m\u001b[38;5;241;43m.\u001b[39;49m\u001b[43mkeras\u001b[49m\u001b[38;5;241;43m.\u001b[39;49m\u001b[43mlosses\u001b[49m\u001b[38;5;241;43m.\u001b[39;49m\u001b[43mbinary_crossentropy\u001b[49m\u001b[43m(\u001b[49m\u001b[43mimage_batch\u001b[49m\u001b[43m,\u001b[49m\u001b[43m \u001b[49m\u001b[43mreconstructed\u001b[49m\u001b[43m)\u001b[49m\n\u001b[0;32m      3\u001b[0m \u001b[38;5;66;03m# Plot the histogram using seaborn\u001b[39;00m\n\u001b[0;32m      4\u001b[0m plt\u001b[38;5;241m.\u001b[39msubplots(dpi\u001b[38;5;241m=\u001b[39m\u001b[38;5;241m800\u001b[39m)\n",
      "File \u001b[1;32m~\\anaconda3\\lib\\site-packages\\tensorflow\\python\\util\\traceback_utils.py:153\u001b[0m, in \u001b[0;36mfilter_traceback.<locals>.error_handler\u001b[1;34m(*args, **kwargs)\u001b[0m\n\u001b[0;32m    151\u001b[0m \u001b[38;5;28;01mexcept\u001b[39;00m \u001b[38;5;167;01mException\u001b[39;00m \u001b[38;5;28;01mas\u001b[39;00m e:\n\u001b[0;32m    152\u001b[0m   filtered_tb \u001b[38;5;241m=\u001b[39m _process_traceback_frames(e\u001b[38;5;241m.\u001b[39m__traceback__)\n\u001b[1;32m--> 153\u001b[0m   \u001b[38;5;28;01mraise\u001b[39;00m e\u001b[38;5;241m.\u001b[39mwith_traceback(filtered_tb) \u001b[38;5;28;01mfrom\u001b[39;00m \u001b[38;5;28mNone\u001b[39m\n\u001b[0;32m    154\u001b[0m \u001b[38;5;28;01mfinally\u001b[39;00m:\n\u001b[0;32m    155\u001b[0m   \u001b[38;5;28;01mdel\u001b[39;00m filtered_tb\n",
      "File \u001b[1;32m~\\anaconda3\\lib\\site-packages\\keras\\losses.py:2162\u001b[0m, in \u001b[0;36mbinary_crossentropy\u001b[1;34m(y_true, y_pred, from_logits, label_smoothing, axis)\u001b[0m\n\u001b[0;32m   2155\u001b[0m     \u001b[38;5;28;01mreturn\u001b[39;00m y_true \u001b[38;5;241m*\u001b[39m (\u001b[38;5;241m1.0\u001b[39m \u001b[38;5;241m-\u001b[39m label_smoothing) \u001b[38;5;241m+\u001b[39m \u001b[38;5;241m0.5\u001b[39m \u001b[38;5;241m*\u001b[39m label_smoothing\n\u001b[0;32m   2157\u001b[0m y_true \u001b[38;5;241m=\u001b[39m tf\u001b[38;5;241m.\u001b[39m__internal__\u001b[38;5;241m.\u001b[39msmart_cond\u001b[38;5;241m.\u001b[39msmart_cond(\n\u001b[0;32m   2158\u001b[0m     label_smoothing, _smooth_labels, \u001b[38;5;28;01mlambda\u001b[39;00m: y_true\n\u001b[0;32m   2159\u001b[0m )\n\u001b[0;32m   2161\u001b[0m \u001b[38;5;28;01mreturn\u001b[39;00m backend\u001b[38;5;241m.\u001b[39mmean(\n\u001b[1;32m-> 2162\u001b[0m     \u001b[43mbackend\u001b[49m\u001b[38;5;241;43m.\u001b[39;49m\u001b[43mbinary_crossentropy\u001b[49m\u001b[43m(\u001b[49m\u001b[43my_true\u001b[49m\u001b[43m,\u001b[49m\u001b[43m \u001b[49m\u001b[43my_pred\u001b[49m\u001b[43m,\u001b[49m\u001b[43m \u001b[49m\u001b[43mfrom_logits\u001b[49m\u001b[38;5;241;43m=\u001b[39;49m\u001b[43mfrom_logits\u001b[49m\u001b[43m)\u001b[49m,\n\u001b[0;32m   2163\u001b[0m     axis\u001b[38;5;241m=\u001b[39maxis,\n\u001b[0;32m   2164\u001b[0m )\n",
      "File \u001b[1;32m~\\anaconda3\\lib\\site-packages\\keras\\backend.py:5685\u001b[0m, in \u001b[0;36mbinary_crossentropy\u001b[1;34m(target, output, from_logits)\u001b[0m\n\u001b[0;32m   5682\u001b[0m output \u001b[38;5;241m=\u001b[39m tf\u001b[38;5;241m.\u001b[39mclip_by_value(output, epsilon_, \u001b[38;5;241m1.0\u001b[39m \u001b[38;5;241m-\u001b[39m epsilon_)\n\u001b[0;32m   5684\u001b[0m \u001b[38;5;66;03m# Compute cross entropy from probabilities.\u001b[39;00m\n\u001b[1;32m-> 5685\u001b[0m bce \u001b[38;5;241m=\u001b[39m \u001b[43mtarget\u001b[49m\u001b[43m \u001b[49m\u001b[38;5;241;43m*\u001b[39;49m\u001b[43m \u001b[49m\u001b[43mtf\u001b[49m\u001b[38;5;241;43m.\u001b[39;49m\u001b[43mmath\u001b[49m\u001b[38;5;241;43m.\u001b[39;49m\u001b[43mlog\u001b[49m\u001b[43m(\u001b[49m\u001b[43moutput\u001b[49m\u001b[43m \u001b[49m\u001b[38;5;241;43m+\u001b[39;49m\u001b[43m \u001b[49m\u001b[43mepsilon\u001b[49m\u001b[43m(\u001b[49m\u001b[43m)\u001b[49m\u001b[43m)\u001b[49m\n\u001b[0;32m   5686\u001b[0m bce \u001b[38;5;241m+\u001b[39m\u001b[38;5;241m=\u001b[39m (\u001b[38;5;241m1\u001b[39m \u001b[38;5;241m-\u001b[39m target) \u001b[38;5;241m*\u001b[39m tf\u001b[38;5;241m.\u001b[39mmath\u001b[38;5;241m.\u001b[39mlog(\u001b[38;5;241m1\u001b[39m \u001b[38;5;241m-\u001b[39m output \u001b[38;5;241m+\u001b[39m epsilon())\n\u001b[0;32m   5687\u001b[0m \u001b[38;5;28;01mreturn\u001b[39;00m \u001b[38;5;241m-\u001b[39mbce\n",
      "\u001b[1;31mInvalidArgumentError\u001b[0m: {{function_node __wrapped__Mul_device_/job:localhost/replica:0/task:0/device:CPU:0}} Incompatible shapes: [100,64,64,3] vs. [14286,64,64,3] [Op:Mul]"
     ]
    }
   ],
   "source": [
    "train_loss = tf.keras.losses.binary_crossentropy(image_batch, reconstructed, from_logits=True)\n",
    "\n",
    "# Plot the histogram using seaborn\n",
    "plt.subplots(dpi=800)\n",
    "\n",
    "dist_sns = sns.distplot(train_loss[None,:], color=\"b\")\n",
    "\n",
    "plt.xlabel(\"Train Loss\")\n",
    "plt.ylabel(\"Number of Samples\")\n",
    "plt.savefig(\"sns_distri.png\")"
   ]
  },
  {
   "cell_type": "code",
   "execution_count": null,
   "id": "574b68f4",
   "metadata": {},
   "outputs": [],
   "source": [
    "#threshold = np.mean(train_loss) + np.std(train_loss)\n",
    "# Compute the median and MAD of the reconstruction error\n",
    "b = 1.4826\n",
    "median = np.median(train_loss)\n",
    "mad = b * np.median(np.abs(train_loss - median))\n",
    "\n",
    "# Set the threshold based on the median and MAD\n",
    "k = 3\n",
    "threshold = median + k * mad\n",
    "\n",
    "print(\"Threshold: \", threshold) "
   ]
  },
  {
   "cell_type": "code",
   "execution_count": null,
   "id": "aa367c49",
   "metadata": {},
   "outputs": [],
   "source": [
    "reconstructed_test = convolutionAE.predict(test_data_norm)\n",
    "train_loss = tf.keras.losses.binary_crossentropy(reconstructions, test_data_norm)\n",
    "\n",
    "a=np.array(train_loss[None,:] )\n",
    "\n",
    "anomaly = a[a >= threshold]\n",
    "normal =  a[a < threshold]\n",
    "\n",
    "plt.hist(normal, color='g')\n",
    "plt.hist(anomaly, color='orange')\n",
    "plt.xlabel(\"Training loss\")\n",
    "plt.ylabel(\"No of Samples\")\n",
    "\n",
    "plt.axvline(threshold, color='red', linestyle='dotted', linewidth=2)\n",
    "plt.savefig(\"Anomaly Sample.png\")\n",
    "plt.show()"
   ]
  },
  {
   "cell_type": "code",
   "execution_count": 2,
   "id": "0b530b8c",
   "metadata": {},
   "outputs": [],
   "source": [
    "autoencoder = tf.saved_model.load('tensormodel/Sparse_Autoencoder_Model_RELU')"
   ]
  },
  {
   "cell_type": "code",
   "execution_count": null,
   "id": "ee210ffb",
   "metadata": {},
   "outputs": [],
   "source": [
    "autoencoder."
   ]
  }
 ],
 "metadata": {
  "kernelspec": {
   "display_name": "Python 3 (ipykernel)",
   "language": "python",
   "name": "python3"
  },
  "language_info": {
   "codemirror_mode": {
    "name": "ipython",
    "version": 3
   },
   "file_extension": ".py",
   "mimetype": "text/x-python",
   "name": "python",
   "nbconvert_exporter": "python",
   "pygments_lexer": "ipython3",
   "version": "3.9.12"
  }
 },
 "nbformat": 4,
 "nbformat_minor": 5
}
