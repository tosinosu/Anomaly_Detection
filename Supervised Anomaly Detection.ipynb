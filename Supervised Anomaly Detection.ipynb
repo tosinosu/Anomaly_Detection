{
 "cells": [
  {
   "cell_type": "code",
   "execution_count": 1,
   "id": "94dfc535",
   "metadata": {},
   "outputs": [],
   "source": [
    "# Import libraries that will be needed for the lab\n",
    "import numpy as np\n",
    "import pandas as pd\n",
    "import matplotlib.pyplot as plt\n",
    "from IPython.display import Image\n",
    "from os import makedirs, listdir\n",
    "from os.path import join\n",
    "import datetime as dt\n",
    "import seaborn as sns\n",
    "\n",
    "\n",
    "from sklearn.preprocessing import MinMaxScaler, OrdinalEncoder, OneHotEncoder\n",
    "from sklearn.model_selection import train_test_split\n",
    "from sklearn.metrics import mean_squared_error, accuracy_score, precision_score, recall_score\n",
    "from sklearn.feature_selection import r_regression, chi2, f_classif\n",
    "from sklearn.metrics import roc_curve, auc, confusion_matrix, ConfusionMatrixDisplay, classification_report\n",
    "from sklearn.impute import SimpleImputer\n",
    "from sklearn.ensemble import IsolationForest \n",
    "from sklearn.neighbors import LocalOutlierFactor\n",
    "from sklearn.inspection import DecisionBoundaryDisplay\n",
    "\n",
    "\n",
    "import tensorflow as tf\n",
    "from tensorflow.keras import optimizers, layers, losses, regularizers \n",
    "from tensorflow import keras\n",
    "from tensorflow.keras.models import Model\n",
    "from tensorflow.keras.layers import Input, Dense, Dropout\n",
    "from tensorflow.keras.utils import plot_model\n",
    "from tensorflow.keras.models import Model\n",
    "%load_ext tensorboard\n",
    "%matplotlib inline"
   ]
  },
  {
   "cell_type": "code",
   "execution_count": 2,
   "id": "c19156db",
   "metadata": {},
   "outputs": [],
   "source": [
    "directory = 'pcapcsv/CSE_Dataset/'\n",
    "datasets = [csv_file for csv_file in listdir(directory) if csv_file.endswith('.csv')]\n",
    "\n",
    "merged_list = []\n",
    "\n",
    "for each_csv in datasets:\n",
    "    file_path = join(directory, each_csv)\n",
    "    for chunk_df1 in pd.read_csv(file_path, chunksize=10000, low_memory=False):\n",
    "        chunk_df1=chunk_df1.drop(['Dst Port', 'Timestamp', 'Bwd PSH Flags', 'Bwd URG Flags', 'Fwd Byts/b Avg', 'Fwd Pkts/b Avg', 'Fwd Blk Rate Avg', 'Bwd Byts/b Avg', 'Bwd Blk Rate Avg'], axis=1)\n",
    "        merged_list.append(chunk_df1)"
   ]
  },
  {
   "cell_type": "code",
   "execution_count": 3,
   "id": "b378875a",
   "metadata": {},
   "outputs": [],
   "source": [
    "combined_dataset = pd.concat(merged_list, ignore_index=True)"
   ]
  },
  {
   "cell_type": "code",
   "execution_count": 4,
   "id": "75797fdf",
   "metadata": {},
   "outputs": [
    {
     "name": "stdout",
     "output_type": "stream",
     "text": [
      "<class 'pandas.core.frame.DataFrame'>\n",
      "RangeIndex: 8284254 entries, 0 to 8284253\n",
      "Data columns (total 71 columns):\n",
      " #   Column             Dtype \n",
      "---  ------             ----- \n",
      " 0   Protocol           object\n",
      " 1   Flow Duration      object\n",
      " 2   Tot Fwd Pkts       object\n",
      " 3   Tot Bwd Pkts       object\n",
      " 4   TotLen Fwd Pkts    object\n",
      " 5   TotLen Bwd Pkts    object\n",
      " 6   Fwd Pkt Len Max    object\n",
      " 7   Fwd Pkt Len Min    object\n",
      " 8   Fwd Pkt Len Mean   object\n",
      " 9   Fwd Pkt Len Std    object\n",
      " 10  Bwd Pkt Len Max    object\n",
      " 11  Bwd Pkt Len Min    object\n",
      " 12  Bwd Pkt Len Mean   object\n",
      " 13  Bwd Pkt Len Std    object\n",
      " 14  Flow Byts/s        object\n",
      " 15  Flow Pkts/s        object\n",
      " 16  Flow IAT Mean      object\n",
      " 17  Flow IAT Std       object\n",
      " 18  Flow IAT Max       object\n",
      " 19  Flow IAT Min       object\n",
      " 20  Fwd IAT Tot        object\n",
      " 21  Fwd IAT Mean       object\n",
      " 22  Fwd IAT Std        object\n",
      " 23  Fwd IAT Max        object\n",
      " 24  Fwd IAT Min        object\n",
      " 25  Bwd IAT Tot        object\n",
      " 26  Bwd IAT Mean       object\n",
      " 27  Bwd IAT Std        object\n",
      " 28  Bwd IAT Max        object\n",
      " 29  Bwd IAT Min        object\n",
      " 30  Fwd PSH Flags      object\n",
      " 31  Fwd URG Flags      object\n",
      " 32  Fwd Header Len     object\n",
      " 33  Bwd Header Len     object\n",
      " 34  Fwd Pkts/s         object\n",
      " 35  Bwd Pkts/s         object\n",
      " 36  Pkt Len Min        object\n",
      " 37  Pkt Len Max        object\n",
      " 38  Pkt Len Mean       object\n",
      " 39  Pkt Len Std        object\n",
      " 40  Pkt Len Var        object\n",
      " 41  FIN Flag Cnt       object\n",
      " 42  SYN Flag Cnt       object\n",
      " 43  RST Flag Cnt       object\n",
      " 44  PSH Flag Cnt       object\n",
      " 45  ACK Flag Cnt       object\n",
      " 46  URG Flag Cnt       object\n",
      " 47  CWE Flag Count     object\n",
      " 48  ECE Flag Cnt       object\n",
      " 49  Down/Up Ratio      object\n",
      " 50  Pkt Size Avg       object\n",
      " 51  Fwd Seg Size Avg   object\n",
      " 52  Bwd Seg Size Avg   object\n",
      " 53  Bwd Pkts/b Avg     object\n",
      " 54  Subflow Fwd Pkts   object\n",
      " 55  Subflow Fwd Byts   object\n",
      " 56  Subflow Bwd Pkts   object\n",
      " 57  Subflow Bwd Byts   object\n",
      " 58  Init Fwd Win Byts  object\n",
      " 59  Init Bwd Win Byts  object\n",
      " 60  Fwd Act Data Pkts  object\n",
      " 61  Fwd Seg Size Min   object\n",
      " 62  Active Mean        object\n",
      " 63  Active Std         object\n",
      " 64  Active Max         object\n",
      " 65  Active Min         object\n",
      " 66  Idle Mean          object\n",
      " 67  Idle Std           object\n",
      " 68  Idle Max           object\n",
      " 69  Idle Min           object\n",
      " 70  Label              object\n",
      "dtypes: object(71)\n",
      "memory usage: 4.4+ GB\n"
     ]
    }
   ],
   "source": [
    "combined_dataset.info()\n",
    "#del dataset[\"Flow Duration\"]"
   ]
  },
  {
   "cell_type": "code",
   "execution_count": 5,
   "id": "d53ebbaa",
   "metadata": {},
   "outputs": [
    {
     "data": {
      "text/plain": [
       "Benign                      6112151\n",
       "DDOS attack-HOIC             686012\n",
       "DoS attacks-Hulk             461912\n",
       "Bot                          286191\n",
       "FTP-BruteForce               193360\n",
       "SSH-Bruteforce               187589\n",
       "Infilteration                161934\n",
       "DoS attacks-SlowHTTPTest     139890\n",
       "DoS attacks-GoldenEye         41508\n",
       "DoS attacks-Slowloris         10990\n",
       "DDOS attack-LOIC-UDP           1730\n",
       "Brute Force -Web                611\n",
       "Brute Force -XSS                230\n",
       "SQL Injection                    87\n",
       "Label                            59\n",
       "Name: Label, dtype: int64"
      ]
     },
     "execution_count": 5,
     "metadata": {},
     "output_type": "execute_result"
    }
   ],
   "source": [
    "combined_dataset.Label.value_counts()"
   ]
  },
  {
   "cell_type": "code",
   "execution_count": 7,
   "id": "be2d5ec5",
   "metadata": {},
   "outputs": [],
   "source": [
    "mask = combined_dataset.Label == 'Label'\n",
    "combined_dataset = combined_dataset.drop(combined_dataset[mask].index)"
   ]
  },
  {
   "cell_type": "code",
   "execution_count": 8,
   "id": "64a10bd1",
   "metadata": {},
   "outputs": [
    {
     "data": {
      "text/plain": [
       "Benign                      6112151\n",
       "DDOS attack-HOIC             686012\n",
       "DoS attacks-Hulk             461912\n",
       "Bot                          286191\n",
       "FTP-BruteForce               193360\n",
       "SSH-Bruteforce               187589\n",
       "Infilteration                161934\n",
       "DoS attacks-SlowHTTPTest     139890\n",
       "DoS attacks-GoldenEye         41508\n",
       "DoS attacks-Slowloris         10990\n",
       "DDOS attack-LOIC-UDP           1730\n",
       "Brute Force -Web                611\n",
       "Brute Force -XSS                230\n",
       "SQL Injection                    87\n",
       "Name: Label, dtype: int64"
      ]
     },
     "execution_count": 8,
     "metadata": {},
     "output_type": "execute_result"
    }
   ],
   "source": [
    "combined_dataset.Label.value_counts()"
   ]
  },
  {
   "cell_type": "code",
   "execution_count": 9,
   "id": "93ca2387",
   "metadata": {},
   "outputs": [],
   "source": [
    "# create a dictionary to map the values\n",
    "label_map = {'Benign': 1, 'DoS attacks-Hulk': 0, 'DDOS attack-HOIC': 0, 'Infilteration': 0, 'SSH-Bruteforce': 0, 'Bot': 0, 'FTP-BruteForce': 0,\n",
    "             'DoS attacks-SlowHTTPTest': 0, 'DoS attacks-Slowloris': 0, 'DoS attacks-GoldenEye': 0, 'Brute Force -XSS': 0, \n",
    "             'SQL Injection': 0, 'DDOS attack-LOIC-UDP': 0, 'Brute Force -Web': 0}\n",
    "\n",
    "# replace the values in the label column\n",
    "combined_dataset.Label = combined_dataset.Label.replace(label_map)\n",
    "\n"
   ]
  },
  {
   "cell_type": "code",
   "execution_count": 31,
   "id": "cfab26cf",
   "metadata": {},
   "outputs": [],
   "source": [
    "#combined_dataset = combined_dataset.drop('Label', axis=1)"
   ]
  },
  {
   "cell_type": "code",
   "execution_count": 10,
   "id": "b8f2c64a",
   "metadata": {},
   "outputs": [
    {
     "name": "stdout",
     "output_type": "stream",
     "text": [
      "<class 'pandas.core.frame.DataFrame'>\n",
      "Int64Index: 8284195 entries, 0 to 8284253\n",
      "Data columns (total 71 columns):\n",
      " #   Column             Dtype \n",
      "---  ------             ----- \n",
      " 0   Protocol           object\n",
      " 1   Flow Duration      object\n",
      " 2   Tot Fwd Pkts       object\n",
      " 3   Tot Bwd Pkts       object\n",
      " 4   TotLen Fwd Pkts    object\n",
      " 5   TotLen Bwd Pkts    object\n",
      " 6   Fwd Pkt Len Max    object\n",
      " 7   Fwd Pkt Len Min    object\n",
      " 8   Fwd Pkt Len Mean   object\n",
      " 9   Fwd Pkt Len Std    object\n",
      " 10  Bwd Pkt Len Max    object\n",
      " 11  Bwd Pkt Len Min    object\n",
      " 12  Bwd Pkt Len Mean   object\n",
      " 13  Bwd Pkt Len Std    object\n",
      " 14  Flow Byts/s        object\n",
      " 15  Flow Pkts/s        object\n",
      " 16  Flow IAT Mean      object\n",
      " 17  Flow IAT Std       object\n",
      " 18  Flow IAT Max       object\n",
      " 19  Flow IAT Min       object\n",
      " 20  Fwd IAT Tot        object\n",
      " 21  Fwd IAT Mean       object\n",
      " 22  Fwd IAT Std        object\n",
      " 23  Fwd IAT Max        object\n",
      " 24  Fwd IAT Min        object\n",
      " 25  Bwd IAT Tot        object\n",
      " 26  Bwd IAT Mean       object\n",
      " 27  Bwd IAT Std        object\n",
      " 28  Bwd IAT Max        object\n",
      " 29  Bwd IAT Min        object\n",
      " 30  Fwd PSH Flags      object\n",
      " 31  Fwd URG Flags      object\n",
      " 32  Fwd Header Len     object\n",
      " 33  Bwd Header Len     object\n",
      " 34  Fwd Pkts/s         object\n",
      " 35  Bwd Pkts/s         object\n",
      " 36  Pkt Len Min        object\n",
      " 37  Pkt Len Max        object\n",
      " 38  Pkt Len Mean       object\n",
      " 39  Pkt Len Std        object\n",
      " 40  Pkt Len Var        object\n",
      " 41  FIN Flag Cnt       object\n",
      " 42  SYN Flag Cnt       object\n",
      " 43  RST Flag Cnt       object\n",
      " 44  PSH Flag Cnt       object\n",
      " 45  ACK Flag Cnt       object\n",
      " 46  URG Flag Cnt       object\n",
      " 47  CWE Flag Count     object\n",
      " 48  ECE Flag Cnt       object\n",
      " 49  Down/Up Ratio      object\n",
      " 50  Pkt Size Avg       object\n",
      " 51  Fwd Seg Size Avg   object\n",
      " 52  Bwd Seg Size Avg   object\n",
      " 53  Bwd Pkts/b Avg     object\n",
      " 54  Subflow Fwd Pkts   object\n",
      " 55  Subflow Fwd Byts   object\n",
      " 56  Subflow Bwd Pkts   object\n",
      " 57  Subflow Bwd Byts   object\n",
      " 58  Init Fwd Win Byts  object\n",
      " 59  Init Bwd Win Byts  object\n",
      " 60  Fwd Act Data Pkts  object\n",
      " 61  Fwd Seg Size Min   object\n",
      " 62  Active Mean        object\n",
      " 63  Active Std         object\n",
      " 64  Active Max         object\n",
      " 65  Active Min         object\n",
      " 66  Idle Mean          object\n",
      " 67  Idle Std           object\n",
      " 68  Idle Max           object\n",
      " 69  Idle Min           object\n",
      " 70  Label              int64 \n",
      "dtypes: int64(1), object(70)\n",
      "memory usage: 4.4+ GB\n"
     ]
    }
   ],
   "source": [
    "combined_dataset.info()"
   ]
  },
  {
   "cell_type": "code",
   "execution_count": 11,
   "id": "0a907799",
   "metadata": {},
   "outputs": [],
   "source": [
    "combined_dataset=combined_dataset.drop(['Init Fwd Win Byts', 'Init Bwd Win Byts'], axis=1)"
   ]
  },
  {
   "cell_type": "code",
   "execution_count": 12,
   "id": "f7051ad2",
   "metadata": {},
   "outputs": [],
   "source": [
    "# create a mask that selects the rows with negative values\n",
    "mask = ((combined_dataset.iloc[:,0:67]).astype(float) < 0).any(axis=1)\n",
    "\n",
    "# use the drop method to delete the rows that match the mask\n",
    "combined_dataset = combined_dataset.drop(combined_dataset[mask].index)"
   ]
  },
  {
   "cell_type": "code",
   "execution_count": 13,
   "id": "074e2231",
   "metadata": {},
   "outputs": [
    {
     "data": {
      "text/plain": [
       "0.0               2929756\n",
       "0                  115919\n",
       "inf                 12163\n",
       "31000000.0           8768\n",
       "77000000.0           3664\n",
       "                   ...   \n",
       "810.9273669816          1\n",
       "797.4686218354          1\n",
       "812.5604934626          1\n",
       "849.4117067202          1\n",
       "3470.08856              1\n",
       "Name: Flow Byts/s, Length: 3521224, dtype: int64"
      ]
     },
     "execution_count": 13,
     "metadata": {},
     "output_type": "execute_result"
    }
   ],
   "source": [
    "combined_dataset['Flow Byts/s'].value_counts(sort=True)"
   ]
  },
  {
   "cell_type": "code",
   "execution_count": 14,
   "id": "2118a319",
   "metadata": {},
   "outputs": [
    {
     "name": "stdout",
     "output_type": "stream",
     "text": [
      "['Flow Byts/s']\n"
     ]
    }
   ],
   "source": [
    "# print the columns with NaN values\n",
    "print(combined_dataset.columns[combined_dataset.isna().any()].tolist())"
   ]
  },
  {
   "cell_type": "code",
   "execution_count": 15,
   "id": "0daab7f8",
   "metadata": {},
   "outputs": [],
   "source": [
    "combined_dataset = combined_dataset.replace([np.inf], 0)"
   ]
  },
  {
   "cell_type": "code",
   "execution_count": 16,
   "id": "897f7e08",
   "metadata": {},
   "outputs": [],
   "source": [
    "# replace nan values with 0 method to replace NaN values with zero\n",
    "combined_dataset = combined_dataset.replace([np.nan], 0)"
   ]
  },
  {
   "cell_type": "code",
   "execution_count": 17,
   "id": "6db675b0",
   "metadata": {},
   "outputs": [
    {
     "name": "stdout",
     "output_type": "stream",
     "text": [
      "[]\n"
     ]
    }
   ],
   "source": [
    "print(combined_dataset.columns[combined_dataset.isna().any()].tolist())"
   ]
  },
  {
   "cell_type": "code",
   "execution_count": 18,
   "id": "b4771a82",
   "metadata": {},
   "outputs": [],
   "source": [
    "# replace the values in the label column\n",
    "label = combined_dataset['Label']"
   ]
  },
  {
   "cell_type": "code",
   "execution_count": 19,
   "id": "ed3b9662",
   "metadata": {},
   "outputs": [],
   "source": [
    "combined_dataset_no_l = combined_dataset.drop('Label', axis=1).astype(float)"
   ]
  },
  {
   "cell_type": "code",
   "execution_count": 20,
   "id": "7c24024d",
   "metadata": {},
   "outputs": [
    {
     "name": "stdout",
     "output_type": "stream",
     "text": [
      "<class 'pandas.core.frame.DataFrame'>\n",
      "Int64Index: 8284180 entries, 0 to 8284253\n",
      "Data columns (total 68 columns):\n",
      " #   Column             Non-Null Count    Dtype  \n",
      "---  ------             --------------    -----  \n",
      " 0   Protocol           8284180 non-null  float64\n",
      " 1   Flow Duration      8284180 non-null  float64\n",
      " 2   Tot Fwd Pkts       8284180 non-null  float64\n",
      " 3   Tot Bwd Pkts       8284180 non-null  float64\n",
      " 4   TotLen Fwd Pkts    8284180 non-null  float64\n",
      " 5   TotLen Bwd Pkts    8284180 non-null  float64\n",
      " 6   Fwd Pkt Len Max    8284180 non-null  float64\n",
      " 7   Fwd Pkt Len Min    8284180 non-null  float64\n",
      " 8   Fwd Pkt Len Mean   8284180 non-null  float64\n",
      " 9   Fwd Pkt Len Std    8284180 non-null  float64\n",
      " 10  Bwd Pkt Len Max    8284180 non-null  float64\n",
      " 11  Bwd Pkt Len Min    8284180 non-null  float64\n",
      " 12  Bwd Pkt Len Mean   8284180 non-null  float64\n",
      " 13  Bwd Pkt Len Std    8284180 non-null  float64\n",
      " 14  Flow Byts/s        8284180 non-null  float64\n",
      " 15  Flow Pkts/s        8284180 non-null  float64\n",
      " 16  Flow IAT Mean      8284180 non-null  float64\n",
      " 17  Flow IAT Std       8284180 non-null  float64\n",
      " 18  Flow IAT Max       8284180 non-null  float64\n",
      " 19  Flow IAT Min       8284180 non-null  float64\n",
      " 20  Fwd IAT Tot        8284180 non-null  float64\n",
      " 21  Fwd IAT Mean       8284180 non-null  float64\n",
      " 22  Fwd IAT Std        8284180 non-null  float64\n",
      " 23  Fwd IAT Max        8284180 non-null  float64\n",
      " 24  Fwd IAT Min        8284180 non-null  float64\n",
      " 25  Bwd IAT Tot        8284180 non-null  float64\n",
      " 26  Bwd IAT Mean       8284180 non-null  float64\n",
      " 27  Bwd IAT Std        8284180 non-null  float64\n",
      " 28  Bwd IAT Max        8284180 non-null  float64\n",
      " 29  Bwd IAT Min        8284180 non-null  float64\n",
      " 30  Fwd PSH Flags      8284180 non-null  float64\n",
      " 31  Fwd URG Flags      8284180 non-null  float64\n",
      " 32  Fwd Header Len     8284180 non-null  float64\n",
      " 33  Bwd Header Len     8284180 non-null  float64\n",
      " 34  Fwd Pkts/s         8284180 non-null  float64\n",
      " 35  Bwd Pkts/s         8284180 non-null  float64\n",
      " 36  Pkt Len Min        8284180 non-null  float64\n",
      " 37  Pkt Len Max        8284180 non-null  float64\n",
      " 38  Pkt Len Mean       8284180 non-null  float64\n",
      " 39  Pkt Len Std        8284180 non-null  float64\n",
      " 40  Pkt Len Var        8284180 non-null  float64\n",
      " 41  FIN Flag Cnt       8284180 non-null  float64\n",
      " 42  SYN Flag Cnt       8284180 non-null  float64\n",
      " 43  RST Flag Cnt       8284180 non-null  float64\n",
      " 44  PSH Flag Cnt       8284180 non-null  float64\n",
      " 45  ACK Flag Cnt       8284180 non-null  float64\n",
      " 46  URG Flag Cnt       8284180 non-null  float64\n",
      " 47  CWE Flag Count     8284180 non-null  float64\n",
      " 48  ECE Flag Cnt       8284180 non-null  float64\n",
      " 49  Down/Up Ratio      8284180 non-null  float64\n",
      " 50  Pkt Size Avg       8284180 non-null  float64\n",
      " 51  Fwd Seg Size Avg   8284180 non-null  float64\n",
      " 52  Bwd Seg Size Avg   8284180 non-null  float64\n",
      " 53  Bwd Pkts/b Avg     8284180 non-null  float64\n",
      " 54  Subflow Fwd Pkts   8284180 non-null  float64\n",
      " 55  Subflow Fwd Byts   8284180 non-null  float64\n",
      " 56  Subflow Bwd Pkts   8284180 non-null  float64\n",
      " 57  Subflow Bwd Byts   8284180 non-null  float64\n",
      " 58  Fwd Act Data Pkts  8284180 non-null  float64\n",
      " 59  Fwd Seg Size Min   8284180 non-null  float64\n",
      " 60  Active Mean        8284180 non-null  float64\n",
      " 61  Active Std         8284180 non-null  float64\n",
      " 62  Active Max         8284180 non-null  float64\n",
      " 63  Active Min         8284180 non-null  float64\n",
      " 64  Idle Mean          8284180 non-null  float64\n",
      " 65  Idle Std           8284180 non-null  float64\n",
      " 66  Idle Max           8284180 non-null  float64\n",
      " 67  Idle Min           8284180 non-null  float64\n",
      "dtypes: float64(68)\n",
      "memory usage: 4.3 GB\n"
     ]
    }
   ],
   "source": [
    "combined_dataset_no_l.info(show_counts=True)"
   ]
  },
  {
   "cell_type": "code",
   "execution_count": null,
   "id": "439291bf",
   "metadata": {},
   "outputs": [],
   "source": [
    "#feature_select = f_classif(combined_dataset_no_l, label)"
   ]
  },
  {
   "cell_type": "code",
   "execution_count": 21,
   "id": "404a485d",
   "metadata": {},
   "outputs": [],
   "source": [
    "#Normalize by columns\n",
    "def normalize_columns(df, cols):\n",
    "    for col_name in cols:\n",
    "        df[col_name] = (df[col_name] - df[col_name].min()) / (df[col_name].max() - df[col_name].min())\n",
    "    return df"
   ]
  },
  {
   "cell_type": "markdown",
   "id": "b79b1714",
   "metadata": {},
   "source": [
    "## Sparse Autoencoder"
   ]
  },
  {
   "cell_type": "code",
   "execution_count": 22,
   "id": "f9511cc5",
   "metadata": {},
   "outputs": [],
   "source": [
    "combined_dataset_norm = combined_dataset.loc[combined_dataset.Label == 1]"
   ]
  },
  {
   "cell_type": "code",
   "execution_count": 23,
   "id": "83ccb3fb",
   "metadata": {},
   "outputs": [],
   "source": [
    "combined_dataset_abnorm = combined_dataset.loc[combined_dataset.Label == 0]"
   ]
  },
  {
   "cell_type": "code",
   "execution_count": 24,
   "id": "026ae8fd",
   "metadata": {},
   "outputs": [],
   "source": [
    "combined_dataset_norm_y = combined_dataset_norm.Label"
   ]
  },
  {
   "cell_type": "code",
   "execution_count": null,
   "id": "b6991e5d",
   "metadata": {},
   "outputs": [],
   "source": [
    "combined_dataset_norm"
   ]
  },
  {
   "cell_type": "code",
   "execution_count": 25,
   "id": "d18baed2",
   "metadata": {},
   "outputs": [],
   "source": [
    "combined_dataset_norm = combined_dataset_norm.drop('Label', axis=1).astype(float)"
   ]
  },
  {
   "cell_type": "code",
   "execution_count": 26,
   "id": "9db6fa1a",
   "metadata": {},
   "outputs": [],
   "source": [
    "combined_dataset_norm = normalize_columns(combined_dataset_norm, combined_dataset_norm.columns.values)"
   ]
  },
  {
   "cell_type": "code",
   "execution_count": 27,
   "id": "21ba0cca",
   "metadata": {},
   "outputs": [],
   "source": [
    "combined_dataset_abnorm_y = combined_dataset_abnorm.Label"
   ]
  },
  {
   "cell_type": "code",
   "execution_count": 28,
   "id": "49a48f1b",
   "metadata": {},
   "outputs": [],
   "source": [
    "combined_dataset_abnorm = combined_dataset_abnorm.drop('Label', axis=1).astype(float)"
   ]
  },
  {
   "cell_type": "code",
   "execution_count": 29,
   "id": "84e560cd",
   "metadata": {},
   "outputs": [],
   "source": [
    "combined_dataset_abnorm = normalize_columns(combined_dataset_abnorm, combined_dataset_abnorm.columns.values)"
   ]
  },
  {
   "cell_type": "code",
   "execution_count": 30,
   "id": "a059f8c0",
   "metadata": {},
   "outputs": [
    {
     "data": {
      "text/plain": [
       "Protocol           float64\n",
       "Flow Duration      float64\n",
       "Tot Fwd Pkts       float64\n",
       "Tot Bwd Pkts       float64\n",
       "TotLen Fwd Pkts    float64\n",
       "                    ...   \n",
       "Active Min         float64\n",
       "Idle Mean          float64\n",
       "Idle Std           float64\n",
       "Idle Max           float64\n",
       "Idle Min           float64\n",
       "Length: 68, dtype: object"
      ]
     },
     "execution_count": 30,
     "metadata": {},
     "output_type": "execute_result"
    }
   ],
   "source": [
    "combined_dataset_abnorm.dtypes"
   ]
  },
  {
   "cell_type": "code",
   "execution_count": 31,
   "id": "43f20857",
   "metadata": {},
   "outputs": [
    {
     "data": {
      "image/png": "[encoded data removed]",
      "text/plain": [
       "<Figure size 432x288 with 1 Axes>"
      ]
     },
     "metadata": {
      "needs_background": "light"
     },
     "output_type": "display_data"
    }
   ],
   "source": [
    "#fig = plt.subplots(nrows=1, ncols=2)\n",
    "plt.grid()\n",
    "plt.plot(np.arange(68), combined_dataset_norm.to_numpy()[172])\n",
    "plt.title(\"Packet one\")\n",
    "plt.yticks([i/10 for i in range(10)])\n",
    "\n",
    "\n",
    "plt.show()"
   ]
  },
  {
   "cell_type": "code",
   "execution_count": 34,
   "id": "1a93bfb7",
   "metadata": {},
   "outputs": [],
   "source": [
    "combined_dataset_norm = combined_dataset_norm.to_numpy()\n",
    "combined_dataset_abnorm = combined_dataset_abnorm.to_numpy() "
   ]
  },
  {
   "cell_type": "code",
   "execution_count": 35,
   "id": "59f90a75",
   "metadata": {},
   "outputs": [],
   "source": [
    "combined_dataset_norm = np.where(np.isnan(combined_dataset_norm), 0, combined_dataset_norm)"
   ]
  },
  {
   "cell_type": "code",
   "execution_count": 36,
   "id": "0f1df2b0",
   "metadata": {},
   "outputs": [],
   "source": [
    "combined_dataset_abnorm = np.where(np.isnan(combined_dataset_abnorm), 0, combined_dataset_abnorm)"
   ]
  },
  {
   "cell_type": "code",
   "execution_count": null,
   "id": "29c9d94d",
   "metadata": {},
   "outputs": [],
   "source": [
    "print(np.isnan(combined_dataset_norm).any())"
   ]
  },
  {
   "cell_type": "code",
   "execution_count": 120,
   "id": "c8b90175",
   "metadata": {},
   "outputs": [],
   "source": [
    "class SparseAEAnomalyDetector(Model):\n",
    "    def __init__(self):\n",
    "        super(SparseAEAnomalyDetector, self).__init__()\n",
    "        self.encoder = layers.Dense(68, activation=\"relu\", activity_regularizer=regularizers.l1(10e-5))\n",
    "\n",
    "        self.decoder = layers.Dense(68, activation=\"sigmoid\")\n",
    "        \n",
    "    def call(self, x):\n",
    "        encoded = self.encoder(x)\n",
    "        decoded = self.decoder(encoded)\n",
    "        return decoded\n",
    "\n",
    "autoencoder = SparseAEAnomalyDetector()"
   ]
  },
  {
   "cell_type": "code",
   "execution_count": 122,
   "id": "e05ac0a9",
   "metadata": {},
   "outputs": [],
   "source": [
    "autoencoder.compile(optimizer='adam', loss='mae')#, metrics=['accuracy'])\n",
    "#Strop training when overfitting is detected\n",
    "early_stopping = tf.keras.callbacks.EarlyStopping(monitor='loss', \n",
    "                                                  patience=5, \n",
    "                                                  #min_delta=0.001, \n",
    "                                                  #mode='auto', \n",
    "                                                  verbose=2, \n",
    "                                                  baseline=None, \n",
    "                                                  restore_best_weights=True)\n",
    "\n",
    "logdir = join(\"logs\", dt.datetime.now().strftime(\"%Y%m%d-%H%M%S\"))\n",
    "tensorboard_callback = tf.keras.callbacks.TensorBoard(logdir,profile_batch=0,update_freq='epoch',histogram_freq=1)\n"
   ]
  },
  {
   "cell_type": "code",
   "execution_count": 123,
   "id": "8e2d064b",
   "metadata": {},
   "outputs": [
    {
     "name": "stdout",
     "output_type": "stream",
     "text": [
      "Epoch 1/50\n",
      "23876/23876 [==============================] - 164s 7ms/step - loss: 0.0076 - val_loss: 0.0158\n",
      "Epoch 2/50\n",
      "23876/23876 [==============================] - 168s 7ms/step - loss: 0.0032 - val_loss: 0.0154\n",
      "Epoch 3/50\n",
      "23876/23876 [==============================] - 174s 7ms/step - loss: 0.0031 - val_loss: 0.0147\n",
      "Epoch 4/50\n",
      "23876/23876 [==============================] - 170s 7ms/step - loss: 0.0030 - val_loss: 0.0160\n",
      "Epoch 5/50\n",
      "23876/23876 [==============================] - 173s 7ms/step - loss: 0.0030 - val_loss: 0.0177\n",
      "Epoch 6/50\n",
      "23876/23876 [==============================] - 168s 7ms/step - loss: 0.0029 - val_loss: 0.0185\n",
      "Epoch 7/50\n",
      "23876/23876 [==============================] - 166s 7ms/step - loss: 0.0029 - val_loss: 0.0181\n",
      "Epoch 8/50\n",
      "23876/23876 [==============================] - 171s 7ms/step - loss: 0.0029 - val_loss: 0.0164\n",
      "Epoch 9/50\n",
      "23876/23876 [==============================] - 167s 7ms/step - loss: 0.0025 - val_loss: 0.0157\n",
      "Epoch 10/50\n",
      "23876/23876 [==============================] - 167s 7ms/step - loss: 0.0024 - val_loss: 0.0145\n",
      "Epoch 11/50\n",
      "23876/23876 [==============================] - 166s 7ms/step - loss: 0.0023 - val_loss: 0.0144\n",
      "Epoch 12/50\n",
      "23876/23876 [==============================] - 170s 7ms/step - loss: 0.0023 - val_loss: 0.0139\n",
      "Epoch 13/50\n",
      "23876/23876 [==============================] - 165s 7ms/step - loss: 0.0023 - val_loss: 0.0140\n",
      "Epoch 14/50\n",
      "23876/23876 [==============================] - 165s 7ms/step - loss: 0.0023 - val_loss: 0.0144\n",
      "Epoch 15/50\n",
      "23876/23876 [==============================] - 165s 7ms/step - loss: 0.0023 - val_loss: 0.0149\n",
      "Epoch 16/50\n",
      "23876/23876 [==============================] - 165s 7ms/step - loss: 0.0023 - val_loss: 0.0151\n",
      "Epoch 17/50\n",
      "23876/23876 [==============================] - 160s 7ms/step - loss: 0.0023 - val_loss: 0.0148\n",
      "Epoch 18/50\n",
      "23876/23876 [==============================] - 157s 7ms/step - loss: 0.0023 - val_loss: 0.0149\n",
      "Epoch 19/50\n",
      "23876/23876 [==============================] - 156s 7ms/step - loss: 0.0022 - val_loss: 0.0148\n",
      "Epoch 20/50\n",
      "23876/23876 [==============================] - 157s 7ms/step - loss: 0.0022 - val_loss: 0.0131\n",
      "Epoch 21/50\n",
      "23876/23876 [==============================] - 156s 7ms/step - loss: 0.0022 - val_loss: 0.0121\n",
      "Epoch 22/50\n",
      "23876/23876 [==============================] - 156s 7ms/step - loss: 0.0022 - val_loss: 0.0114\n",
      "Epoch 23/50\n",
      "23876/23876 [==============================] - 155s 7ms/step - loss: 0.0022 - val_loss: 0.0113\n",
      "Epoch 24/50\n",
      "23876/23876 [==============================] - 156s 7ms/step - loss: 0.0022 - val_loss: 0.0116\n",
      "Epoch 25/50\n",
      "23876/23876 [==============================] - 156s 7ms/step - loss: 0.0022 - val_loss: 0.0131\n",
      "Epoch 26/50\n",
      "23876/23876 [==============================] - 156s 7ms/step - loss: 0.0022 - val_loss: 0.0137\n",
      "Epoch 27/50\n",
      "23876/23876 [==============================] - 156s 7ms/step - loss: 0.0022 - val_loss: 0.0143\n",
      "Epoch 28/50\n",
      "23876/23876 [==============================] - 160s 7ms/step - loss: 0.0022 - val_loss: 0.0140\n",
      "Epoch 29/50\n",
      "23876/23876 [==============================] - 158s 7ms/step - loss: 0.0022 - val_loss: 0.0150\n",
      "Epoch 30/50\n",
      "23876/23876 [==============================] - 158s 7ms/step - loss: 0.0022 - val_loss: 0.0150\n",
      "Epoch 31/50\n",
      "23876/23876 [==============================] - 158s 7ms/step - loss: 0.0022 - val_loss: 0.0156\n",
      "Epoch 32/50\n",
      "23876/23876 [==============================] - 158s 7ms/step - loss: 0.0022 - val_loss: 0.0158\n",
      "Epoch 33/50\n",
      "23876/23876 [==============================] - 159s 7ms/step - loss: 0.0022 - val_loss: 0.0156\n",
      "Epoch 34/50\n",
      "23876/23876 [==============================] - 159s 7ms/step - loss: 0.0022 - val_loss: 0.0161\n",
      "Epoch 35/50\n",
      "23876/23876 [==============================] - 159s 7ms/step - loss: 0.0022 - val_loss: 0.0156\n",
      "Epoch 36/50\n",
      "23876/23876 [==============================] - 159s 7ms/step - loss: 0.0022 - val_loss: 0.0158\n",
      "Epoch 37/50\n",
      "23876/23876 [==============================] - 159s 7ms/step - loss: 0.0022 - val_loss: 0.0161\n",
      "Epoch 38/50\n",
      "23876/23876 [==============================] - 161s 7ms/step - loss: 0.0022 - val_loss: 0.0166\n",
      "Epoch 39/50\n",
      "23876/23876 [==============================] - 166s 7ms/step - loss: 0.0022 - val_loss: 0.0166\n",
      "Epoch 40/50\n",
      "23876/23876 [==============================] - 160s 7ms/step - loss: 0.0022 - val_loss: 0.0172\n",
      "Epoch 41/50\n",
      "23876/23876 [==============================] - 162s 7ms/step - loss: 0.0022 - val_loss: 0.0172\n",
      "Epoch 42/50\n",
      "23876/23876 [==============================] - 162s 7ms/step - loss: 0.0022 - val_loss: 0.0166\n",
      "Epoch 43/50\n",
      "23876/23876 [==============================] - 162s 7ms/step - loss: 0.0022 - val_loss: 0.0170\n",
      "Epoch 44/50\n",
      "23876/23876 [==============================] - 162s 7ms/step - loss: 0.0022 - val_loss: 0.0177\n",
      "Epoch 45/50\n",
      "23876/23876 [==============================] - 161s 7ms/step - loss: 0.0022 - val_loss: 0.0180\n",
      "Epoch 46/50\n",
      "23876/23876 [==============================] - 160s 7ms/step - loss: 0.0022 - val_loss: 0.0177\n",
      "Epoch 47/50\n",
      "23876/23876 [==============================] - 162s 7ms/step - loss: 0.0022 - val_loss: 0.0176\n",
      "Epoch 48/50\n",
      "23876/23876 [==============================] - 162s 7ms/step - loss: 0.0022 - val_loss: 0.0176\n",
      "Epoch 49/50\n",
      "23876/23876 [==============================] - 163s 7ms/step - loss: 0.0022 - val_loss: 0.0170\n",
      "Epoch 50/50\n",
      "23876/23876 [==============================] - 166s 7ms/step - loss: 0.0022 - val_loss: 0.0168\n"
     ]
    }
   ],
   "source": [
    "history = autoencoder.fit(combined_dataset_norm, combined_dataset_norm,\n",
    "          epochs=50, \n",
    "          batch_size=256,\n",
    "          validation_data=(combined_dataset_abnorm, combined_dataset_abnorm),\n",
    "          shuffle=True,\n",
    "          callbacks=[early_stopping, tensorboard_callback])"
   ]
  },
  {
   "cell_type": "code",
   "execution_count": 124,
   "id": "5d3adf44",
   "metadata": {},
   "outputs": [
    {
     "data": {
      "image/png": "[encoded data removed]",
      "text/plain": [
       "<Figure size 432x288 with 1 Axes>"
      ]
     },
     "metadata": {
      "needs_background": "light"
     },
     "output_type": "display_data"
    }
   ],
   "source": [
    "plt.plot(history.history[\"loss\"], label=\"Training Loss\")\n",
    "plt.plot(history.history[\"val_loss\"], label=\"Validation Loss\")\n",
    "plt.legend()\n",
    "plt.savefig('Training_Loss_SA_Sup_AD.png')"
   ]
  },
  {
   "cell_type": "code",
   "execution_count": 127,
   "id": "7f9332f7",
   "metadata": {},
   "outputs": [
    {
     "data": {
      "image/png": "[encoded data removed]",
      "text/plain": [
       "<Figure size 432x288 with 1 Axes>"
      ]
     },
     "metadata": {
      "needs_background": "light"
     },
     "output_type": "display_data"
    }
   ],
   "source": [
    "encoded_data = autoencoder.encoder(combined_dataset_norm).numpy()\n",
    "decoded_data = autoencoder.decoder(encoded_data).numpy()\n",
    "\n",
    "plt.plot(combined_dataset_norm[12], 'g')\n",
    "plt.plot(decoded_data[12], 'r')\n",
    "plt.fill_between(np.arange(68), decoded_data[12], combined_dataset_norm[12], color='orange')\n",
    "plt.legend(labels=[\"Input\", \"Reconstructed\", \"Error\"])\n",
    "plt.ylabel('Feature Values')\n",
    "plt.xlabel('Number of Features')\n",
    "plt.yticks([i/10 for i in range(10)])\n",
    "plt.savefig(\"rec_0.png\")\n",
    "plt.show()"
   ]
  },
  {
   "cell_type": "code",
   "execution_count": 126,
   "id": "869131b4",
   "metadata": {},
   "outputs": [
    {
     "name": "stdout",
     "output_type": "stream",
     "text": [
      "INFO:tensorflow:Assets written to: tensormodel/Sparse_Autoencoder_Model\\assets\n"
     ]
    }
   ],
   "source": [
    "tf.saved_model.save(autoencoder, 'tensormodel/Sparse_Autoencoder_Model')"
   ]
  },
  {
   "cell_type": "code",
   "execution_count": 74,
   "id": "50e297d2",
   "metadata": {},
   "outputs": [
    {
     "name": "stdout",
     "output_type": "stream",
     "text": [
      "191005/191005 [==============================] - 191s 1ms/step\n"
     ]
    }
   ],
   "source": [
    "reconstructions = autoencoder.predict(combined_dataset_abnorm)\n",
    "train_loss = tf.keras.losses.mse(reconstructions, combined_dataset_norm)"
   ]
  },
  {
   "cell_type": "code",
   "execution_count": 128,
   "id": "853d82ca",
   "metadata": {},
   "outputs": [
    {
     "name": "stderr",
     "output_type": "stream",
     "text": [
      "C:\\Users\\Kasutaja\\anaconda3\\lib\\site-packages\\seaborn\\distributions.py:2619: FutureWarning: `distplot` is a deprecated function and will be removed in a future version. Please adapt your code to use either `displot` (a figure-level function with similar flexibility) or `histplot` (an axes-level function for histograms).\n",
      "  warnings.warn(msg, FutureWarning)\n"
     ]
    },
    {
     "data": {
      "image/png": "[encoded data removed]",
      "text/plain": [
       "<Figure size 900x600 with 1 Axes>"
      ]
     },
     "metadata": {
      "needs_background": "light"
     },
     "output_type": "display_data"
    }
   ],
   "source": [
    "# Plot the histogram using seaborn\n",
    "plt.subplots(dpi=150)\n",
    "\n",
    "dist_sns = sns.distplot(train_loss[None,:], color=\"b\")\n",
    "\n",
    "plt.xlabel(\"Train Loss\")\n",
    "plt.ylabel(\"Number of Samples\")\n",
    "plt.savefig(\"sns_distri.png\")"
   ]
  },
  {
   "cell_type": "code",
   "execution_count": 129,
   "id": "3cac40ce",
   "metadata": {},
   "outputs": [
    {
     "name": "stdout",
     "output_type": "stream",
     "text": [
      "Threshold median: 0.001900743460345759\n"
     ]
    }
   ],
   "source": [
    "# Compute the median and MAD of the reconstruction error\n",
    "b = 1.4826\n",
    "median = np.median(train_loss)\n",
    "mad = b * np.median(np.abs(train_loss - median))\n",
    "\n",
    "# Set the threshold based on the median and MAD\n",
    "k = 3\n",
    "threshold_median = median + k * mad\n",
    "\n",
    "print(\"Threshold median:\", threshold_median) "
   ]
  },
  {
   "cell_type": "code",
   "execution_count": 130,
   "id": "8629abf7",
   "metadata": {},
   "outputs": [
    {
     "name": "stdout",
     "output_type": "stream",
     "text": [
      "Threshold std: 0.010431372708529429\n"
     ]
    }
   ],
   "source": [
    "threshold_std =  np.mean(train_loss) + np.std(train_loss)\n",
    "print(\"Threshold std:\", threshold_std) "
   ]
  },
  {
   "cell_type": "code",
   "execution_count": 131,
   "id": "d4a3ea8c",
   "metadata": {},
   "outputs": [
    {
     "name": "stdout",
     "output_type": "stream",
     "text": [
      "Threshold percentile: 0.262191792066324\n"
     ]
    }
   ],
   "source": [
    "#Threshold using Percentile\n",
    "l_0, l_1  =  label.value_counts()\n",
    "threshold_perc = (l_1/(l_1 + l_0))\n",
    "print(\"Threshold percentile:\", threshold_perc)"
   ]
  },
  {
   "cell_type": "code",
   "execution_count": 136,
   "id": "e13909e9",
   "metadata": {},
   "outputs": [
    {
     "name": "stdout",
     "output_type": "stream",
     "text": [
      "191005/191005 [==============================] - 246s 1ms/step\n"
     ]
    }
   ],
   "source": [
    "#reconstructions = autoencoder.predict(combined_dataset_abnorm)\n",
    "#test_loss = tf.keras.losses.mse(reconstructions, combined_dataset_abnorm)"
   ]
  },
  {
   "cell_type": "code",
   "execution_count": 137,
   "id": "a9ae9ac8",
   "metadata": {},
   "outputs": [],
   "source": [
    "def predict(model, data, threshold):\n",
    "    reconstructions = model(data)\n",
    "    loss = tf.keras.losses.mae(reconstructions, data)\n",
    "    return reconstructions, loss, tf.math.less(loss, threshold) #Returns the truth value of (loss < threshold) element-wise.\n",
    "\n",
    "def print_stats(predictions, labels):\n",
    "    print(\"Accuracy = {}\".format(accuracy_score(labels, predictions)))\n",
    "    print(\"Precision = {}\".format(precision_score(labels, predictions)))\n",
    "    print(\"Recall = {}\".format(recall_score(labels, predictions)))"
   ]
  },
  {
   "cell_type": "code",
   "execution_count": 138,
   "id": "ec68ddd0",
   "metadata": {},
   "outputs": [],
   "source": [
    "model, rec_loss, pred_ = predict(autoencoder, combined_dataset_abnorm,  threshold_median)"
   ]
  },
  {
   "cell_type": "code",
   "execution_count": 139,
   "id": "7d159be1",
   "metadata": {},
   "outputs": [
    {
     "data": {
      "image/png": "[encoded data removed]",
      "text/plain": [
       "<Figure size 432x288 with 1 Axes>"
      ]
     },
     "metadata": {
      "needs_background": "light"
     },
     "output_type": "display_data"
    }
   ],
   "source": [
    "a=np.array(rec_loss[None,:])\n",
    "\n",
    "anomaly = a[a >= threshold_std]\n",
    "normal =  a[a < threshold_std]\n",
    "\n",
    "plt.hist(normal, color='g')\n",
    "plt.hist(anomaly, color='orange')\n",
    "plt.xlabel(\"Training loss\")\n",
    "plt.ylabel(\"No of Samples\")\n",
    "\n",
    "plt.axvline(threshold_std, color='red', linestyle='dotted', linewidth=2)\n",
    "plt.savefig(\"Anomaly Sample STD.png\")\n",
    "plt.show()"
   ]
  },
  {
   "cell_type": "code",
   "execution_count": 140,
   "id": "d3455647",
   "metadata": {},
   "outputs": [
    {
     "name": "stdout",
     "output_type": "stream",
     "text": [
      "Accuracy = 0.4719379533747935\n",
      "Precision = 0.0\n",
      "Recall = 0.0\n"
     ]
    },
    {
     "name": "stderr",
     "output_type": "stream",
     "text": [
      "C:\\Users\\Kasutaja\\anaconda3\\lib\\site-packages\\sklearn\\metrics\\_classification.py:1469: UndefinedMetricWarning: Recall is ill-defined and being set to 0.0 due to no true samples. Use `zero_division` parameter to control this behavior.\n",
      "  _warn_prf(average, modifier, msg_start, len(result))\n"
     ]
    }
   ],
   "source": [
    "print_stats(pred_, combined_dataset_abnorm_y.astype(bool))"
   ]
  },
  {
   "cell_type": "code",
   "execution_count": 141,
   "id": "fb9cef22",
   "metadata": {},
   "outputs": [
    {
     "data": {
      "image/png": "[encoded data removed]",
      "text/plain": [
       "<Figure size 432x288 with 2 Axes>"
      ]
     },
     "metadata": {
      "needs_background": "light"
     },
     "output_type": "display_data"
    }
   ],
   "source": [
    "ConfusionMatrixDisplay.from_predictions(combined_dataset_abnorm_y.astype(bool), pred_)\n",
    "plt.show()"
   ]
  },
  {
   "cell_type": "markdown",
   "id": "54803df5",
   "metadata": {},
   "source": [
    "## Isolation Forest"
   ]
  },
  {
   "cell_type": "code",
   "execution_count": 142,
   "id": "71cdc7cd",
   "metadata": {},
   "outputs": [],
   "source": [
    "train_data_x, test_data_x, train_data_y, test_data_y = train_test_split(\n",
    "    combined_dataset_no_l, label, test_size=0.5, random_state=42\n",
    ")"
   ]
  },
  {
   "cell_type": "code",
   "execution_count": 143,
   "id": "7bd6ebec",
   "metadata": {},
   "outputs": [],
   "source": [
    "l_0, l_1 = label.value_counts()"
   ]
  },
  {
   "cell_type": "code",
   "execution_count": 144,
   "id": "a28f2242",
   "metadata": {},
   "outputs": [
    {
     "data": {
      "text/plain": [
       "1    6112136\n",
       "0    2172044\n",
       "Name: Label, dtype: int64"
      ]
     },
     "execution_count": 144,
     "metadata": {},
     "output_type": "execute_result"
    }
   ],
   "source": [
    "label.value_counts()"
   ]
  },
  {
   "cell_type": "code",
   "execution_count": 145,
   "id": "3a0c2ebc",
   "metadata": {},
   "outputs": [],
   "source": [
    "cont = (l_1 / (l_1 + l_0))\n",
    "\n",
    "contamination = round(cont, 1)\n"
   ]
  },
  {
   "cell_type": "code",
   "execution_count": 146,
   "id": "23b3b1f5",
   "metadata": {},
   "outputs": [],
   "source": [
    "train_data_x = train_data_x.replace([np.inf], 0)"
   ]
  },
  {
   "cell_type": "code",
   "execution_count": 147,
   "id": "93946f50",
   "metadata": {},
   "outputs": [],
   "source": [
    "test_data_x = test_data_x.replace([np.inf], 0)"
   ]
  },
  {
   "cell_type": "code",
   "execution_count": 175,
   "id": "7a12903c",
   "metadata": {},
   "outputs": [],
   "source": [
    "#train_data_x = train_data_x.fillna(0)"
   ]
  },
  {
   "cell_type": "code",
   "execution_count": 176,
   "id": "07aba27b",
   "metadata": {},
   "outputs": [],
   "source": [
    "# create a mask that selects the rows with negative values\n",
    "#mask = ((train_data_x).astype(float) < 0).any(axis=1)\n",
    "\n",
    "# use the drop method to delete the rows that match the mask\n",
    "#train_data_x = train_data_x.drop(train_data_x[mask].index)"
   ]
  },
  {
   "cell_type": "code",
   "execution_count": 177,
   "id": "ddac9303",
   "metadata": {},
   "outputs": [],
   "source": [
    "#train_data_x.info()"
   ]
  },
  {
   "cell_type": "code",
   "execution_count": 148,
   "id": "41c7aa15",
   "metadata": {},
   "outputs": [
    {
     "data": {
      "text/html": [
       "<style>#sk-container-id-1 {color: black;}#sk-container-id-1 pre{padding: 0;}#sk-container-id-1 div.sk-toggleable {background-color: white;}#sk-container-id-1 label.sk-toggleable__label {cursor: pointer;display: block;width: 100%;margin-bottom: 0;padding: 0.3em;box-sizing: border-box;text-align: center;}#sk-container-id-1 label.sk-toggleable__label-arrow:before {content: \"▸\";float: left;margin-right: 0.25em;color: #696969;}#sk-container-id-1 label.sk-toggleable__label-arrow:hover:before {color: black;}#sk-container-id-1 div.sk-estimator:hover label.sk-toggleable__label-arrow:before {color: black;}#sk-container-id-1 div.sk-toggleable__content {max-height: 0;max-width: 0;overflow: hidden;text-align: left;background-color: #f0f8ff;}#sk-container-id-1 div.sk-toggleable__content pre {margin: 0.2em;color: black;border-radius: 0.25em;background-color: #f0f8ff;}#sk-container-id-1 input.sk-toggleable__control:checked~div.sk-toggleable__content {max-height: 200px;max-width: 100%;overflow: auto;}#sk-container-id-1 input.sk-toggleable__control:checked~label.sk-toggleable__label-arrow:before {content: \"▾\";}#sk-container-id-1 div.sk-estimator input.sk-toggleable__control:checked~label.sk-toggleable__label {background-color: #d4ebff;}#sk-container-id-1 div.sk-label input.sk-toggleable__control:checked~label.sk-toggleable__label {background-color: #d4ebff;}#sk-container-id-1 input.sk-hidden--visually {border: 0;clip: rect(1px 1px 1px 1px);clip: rect(1px, 1px, 1px, 1px);height: 1px;margin: -1px;overflow: hidden;padding: 0;position: absolute;width: 1px;}#sk-container-id-1 div.sk-estimator {font-family: monospace;background-color: #f0f8ff;border: 1px dotted black;border-radius: 0.25em;box-sizing: border-box;margin-bottom: 0.5em;}#sk-container-id-1 div.sk-estimator:hover {background-color: #d4ebff;}#sk-container-id-1 div.sk-parallel-item::after {content: \"\";width: 100%;border-bottom: 1px solid gray;flex-grow: 1;}#sk-container-id-1 div.sk-label:hover label.sk-toggleable__label {background-color: #d4ebff;}#sk-container-id-1 div.sk-serial::before {content: \"\";position: absolute;border-left: 1px solid gray;box-sizing: border-box;top: 0;bottom: 0;left: 50%;z-index: 0;}#sk-container-id-1 div.sk-serial {display: flex;flex-direction: column;align-items: center;background-color: white;padding-right: 0.2em;padding-left: 0.2em;position: relative;}#sk-container-id-1 div.sk-item {position: relative;z-index: 1;}#sk-container-id-1 div.sk-parallel {display: flex;align-items: stretch;justify-content: center;background-color: white;position: relative;}#sk-container-id-1 div.sk-item::before, #sk-container-id-1 div.sk-parallel-item::before {content: \"\";position: absolute;border-left: 1px solid gray;box-sizing: border-box;top: 0;bottom: 0;left: 50%;z-index: -1;}#sk-container-id-1 div.sk-parallel-item {display: flex;flex-direction: column;z-index: 1;position: relative;background-color: white;}#sk-container-id-1 div.sk-parallel-item:first-child::after {align-self: flex-end;width: 50%;}#sk-container-id-1 div.sk-parallel-item:last-child::after {align-self: flex-start;width: 50%;}#sk-container-id-1 div.sk-parallel-item:only-child::after {width: 0;}#sk-container-id-1 div.sk-dashed-wrapped {border: 1px dashed gray;margin: 0 0.4em 0.5em 0.4em;box-sizing: border-box;padding-bottom: 0.4em;background-color: white;}#sk-container-id-1 div.sk-label label {font-family: monospace;font-weight: bold;display: inline-block;line-height: 1.2em;}#sk-container-id-1 div.sk-label-container {text-align: center;}#sk-container-id-1 div.sk-container {/* jupyter's `normalize.less` sets `[hidden] { display: none; }` but bootstrap.min.css set `[hidden] { display: none !important; }` so we also need the `!important` here to be able to override the default hidden behavior on the sphinx rendered scikit-learn.org. See: https://github.com/scikit-learn/scikit-learn/issues/21755 */display: inline-block !important;position: relative;}#sk-container-id-1 div.sk-text-repr-fallback {display: none;}</style><div id=\"sk-container-id-1\" class=\"sk-top-container\"><div class=\"sk-text-repr-fallback\"><pre>IsolationForest(contamination=0.3, n_estimators=250, random_state=0)</pre><b>In a Jupyter environment, please rerun this cell to show the HTML representation or trust the notebook. <br />On GitHub, the HTML representation is unable to render, please try loading this page with nbviewer.org.</b></div><div class=\"sk-container\" hidden><div class=\"sk-item\"><div class=\"sk-estimator sk-toggleable\"><input class=\"sk-toggleable__control sk-hidden--visually\" id=\"sk-estimator-id-1\" type=\"checkbox\" checked><label for=\"sk-estimator-id-1\" class=\"sk-toggleable__label sk-toggleable__label-arrow\">IsolationForest</label><div class=\"sk-toggleable__content\"><pre>IsolationForest(contamination=0.3, n_estimators=250, random_state=0)</pre></div></div></div></div></div>"
      ],
      "text/plain": [
       "IsolationForest(contamination=0.3, n_estimators=250, random_state=0)"
      ]
     },
     "execution_count": 148,
     "metadata": {},
     "output_type": "execute_result"
    }
   ],
   "source": [
    "iso_forest = IsolationForest(contamination=contamination,random_state=0, n_estimators=250, max_samples='auto', max_features=1.0, bootstrap=False, n_jobs=None, verbose=0, warm_start=False)\n",
    "iso_forest.fit(train_data_x)"
   ]
  },
  {
   "cell_type": "code",
   "execution_count": 149,
   "id": "76fbae65",
   "metadata": {},
   "outputs": [],
   "source": [
    "iso_predict = iso_forest.predict(test_data_x)"
   ]
  },
  {
   "cell_type": "code",
   "execution_count": 150,
   "id": "1d48df54",
   "metadata": {},
   "outputs": [],
   "source": [
    "empty_df_iso = pd.DataFrame()"
   ]
  },
  {
   "cell_type": "code",
   "execution_count": 151,
   "id": "c96ca298",
   "metadata": {},
   "outputs": [],
   "source": [
    "empty_df_iso['scores']=iso_forest.decision_function(test_data_x)"
   ]
  },
  {
   "cell_type": "code",
   "execution_count": 152,
   "id": "39ef2e6a",
   "metadata": {},
   "outputs": [],
   "source": [
    "empty_df_iso['iso_f_label'] = iso_predict\n",
    "#outliers = empty_df.loc[empty_df['iso_f_label'] == -1]\n",
    "#outlier_index=list(outliers.index)\n",
    "#print(outlier_index)\n",
    "#Find the number of anomalies and normal points here points classified -1 are anomalous\n",
    "benign, anomalous = empty_df_iso['iso_f_label'].value_counts()"
   ]
  },
  {
   "cell_type": "code",
   "execution_count": 153,
   "id": "3610166d",
   "metadata": {},
   "outputs": [],
   "source": [
    "target_names= ['benign', 'anomalous']"
   ]
  },
  {
   "cell_type": "code",
   "execution_count": 154,
   "id": "3b9bb860",
   "metadata": {},
   "outputs": [],
   "source": [
    "# create a dictionary to map the values\n",
    "label_map = {1: 0, -1:1}\n",
    "\n",
    "# replace the values in the label column\n",
    "empty_df_iso.iso_f_label = empty_df_iso.iso_f_label.replace(label_map)\n"
   ]
  },
  {
   "cell_type": "code",
   "execution_count": 155,
   "id": "3114efa4",
   "metadata": {},
   "outputs": [
    {
     "data": {
      "image/png": "[encoded data removed]",
      "text/plain": [
       "<Figure size 432x288 with 2 Axes>"
      ]
     },
     "metadata": {
      "needs_background": "light"
     },
     "output_type": "display_data"
    }
   ],
   "source": [
    "ConfusionMatrixDisplay.from_predictions(test_data_y.to_numpy(), empty_df_iso.iso_f_label.to_numpy())\n",
    "plt.show()"
   ]
  },
  {
   "cell_type": "code",
   "execution_count": 156,
   "id": "bf2cb3e2",
   "metadata": {},
   "outputs": [
    {
     "name": "stdout",
     "output_type": "stream",
     "text": [
      "              precision    recall  f1-score   support\n",
      "\n",
      "      benign       0.32      0.87      0.47   1086791\n",
      "   anomalous       0.88      0.36      0.51   3055299\n",
      "\n",
      "    accuracy                           0.49   4142090\n",
      "   macro avg       0.60      0.61      0.49   4142090\n",
      "weighted avg       0.74      0.49      0.50   4142090\n",
      "\n"
     ]
    }
   ],
   "source": [
    "print(classification_report(test_data_y.to_numpy(), empty_df_iso.iso_f_label.to_numpy(), target_names=target_names))"
   ]
  },
  {
   "cell_type": "markdown",
   "id": "7140c79c",
   "metadata": {},
   "source": [
    "## Local outlier Factor"
   ]
  },
  {
   "cell_type": "code",
   "execution_count": 157,
   "id": "c882d9ca",
   "metadata": {},
   "outputs": [],
   "source": [
    "lof = LocalOutlierFactor(n_neighbors=20, algorithm='auto', leaf_size=30, metric='minkowski', p=2, metric_params=None, contamination=contamination, novelty=False)"
   ]
  },
  {
   "cell_type": "code",
   "execution_count": 158,
   "id": "26cd0581",
   "metadata": {},
   "outputs": [],
   "source": [
    "test_data_x = normalize_columns(test_data_x, test_data_x.columns.values)"
   ]
  },
  {
   "cell_type": "code",
   "execution_count": 159,
   "id": "72b8ded3",
   "metadata": {},
   "outputs": [],
   "source": [
    "test_data_x = test_data_x.replace([np.nan], 0)"
   ]
  },
  {
   "cell_type": "code",
   "execution_count": null,
   "id": "7ddab584",
   "metadata": {},
   "outputs": [],
   "source": [
    "#lof_fit = lof.fit(train_data_norm)\n",
    "#n_errors = (y_pred != ground_truth).sum()\n",
    "lof_pred=lof.fit_predict(test_data_x)"
   ]
  },
  {
   "cell_type": "code",
   "execution_count": null,
   "id": "4d34d3c3",
   "metadata": {},
   "outputs": [],
   "source": [
    "lof_scores = lof.negative_outlier_factor_"
   ]
  },
  {
   "cell_type": "code",
   "execution_count": null,
   "id": "646dd62e",
   "metadata": {},
   "outputs": [],
   "source": [
    "empty_df_lof = pd.DataFrame()\n",
    "empty_df_lof['lof_label'] = lof_pred\n",
    "empty_df_lof['lof_score'] = lof_scores\n",
    "#outliers = empty_df.loc[empty_df['iso_f_label'] == -1]\n",
    "#outlier_index=list(outliers.index)\n",
    "#print(outlier_index)\n",
    "#Find the number of anomalies and normal points here points classified -1 are anomalous\n",
    "print(empty_df_lof['lof_label'].value_counts())"
   ]
  },
  {
   "cell_type": "code",
   "execution_count": null,
   "id": "cad7f7a5",
   "metadata": {},
   "outputs": [],
   "source": [
    "# replace the values in the label column\n",
    "empty_df_lof.lof_label = empty_df_lof.lof_label.replace(label_map)"
   ]
  },
  {
   "cell_type": "code",
   "execution_count": null,
   "id": "168dbd3b",
   "metadata": {},
   "outputs": [],
   "source": [
    "ConfusionMatrixDisplay.from_predictions(test_data_y.to_numpy(), empty_df_lof.lof_label.to_numpy())\n",
    "plt.show()"
   ]
  }
 ],
 "metadata": {
  "kernelspec": {
   "display_name": "Python 3 (ipykernel)",
   "language": "python",
   "name": "python3"
  },
  "language_info": {
   "codemirror_mode": {
    "name": "ipython",
    "version": 3
   },
   "file_extension": ".py",
   "mimetype": "text/x-python",
   "name": "python",
   "nbconvert_exporter": "python",
   "pygments_lexer": "ipython3",
   "version": "3.9.12"
  }
 },
 "nbformat": 4,
 "nbformat_minor": 5
}
