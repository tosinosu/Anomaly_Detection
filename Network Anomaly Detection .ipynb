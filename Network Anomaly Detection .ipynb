{
 "cells": [
  {
   "cell_type": "code",
   "execution_count": 2,
   "id": "6b479b4e",
   "metadata": {},
   "outputs": [
    {
     "name": "stdout",
     "output_type": "stream",
     "text": [
      "The tensorboard extension is already loaded. To reload it, use:\n",
      "  %reload_ext tensorboard\n"
     ]
    }
   ],
   "source": [
    "# Import libraries that will be needed for the lab\n",
    "import numpy as np\n",
    "import pandas as pd\n",
    "import matplotlib.pyplot as plt\n",
    "from IPython.display import Image\n",
    "from os import makedirs, listdir\n",
    "from os.path import join\n",
    "import datetime as dt\n",
    "import seaborn as sns\n",
    "\n",
    "import sklearn\n",
    "from sklearn.preprocessing import OrdinalEncoder\n",
    "from sklearn.model_selection import train_test_split\n",
    "from sklearn.metrics import roc_curve, accuracy_score, precision_score, recall_score, auc, precision_recall_curve, average_precision_score\n",
    "from sklearn.metrics import ConfusionMatrixDisplay\n",
    "from sklearn.impute import SimpleImputer\n",
    "from sklearn.ensemble import IsolationForest \n",
    "from sklearn.neighbors import LocalOutlierFactor\n",
    "from sklearn.inspection import DecisionBoundaryDisplay\n",
    "\n",
    "\n",
    "import tensorflow as tf\n",
    "from tensorflow.keras import optimizers, layers, losses, regularizers \n",
    "from tensorflow import keras\n",
    "from tensorflow.keras.models import Model\n",
    "from tensorflow.keras.layers import Input, Dense, Dropout\n",
    "from tensorflow.keras.utils import plot_model\n",
    "from tensorflow.keras.models import Model\n",
    "%load_ext tensorboard\n",
    "%matplotlib inline"
   ]
  },
  {
   "cell_type": "code",
   "execution_count": 3,
   "id": "fbe5bdb2",
   "metadata": {},
   "outputs": [],
   "source": [
    "directory = 'pcapcsv/preprocessed/'\n",
    "datasets = [csv_file for csv_file in listdir(directory) if csv_file.endswith('.csv')]\n",
    "\n",
    "merged_list = []\n",
    "\n",
    "for each_csv in datasets:\n",
    "    file_path = join(directory, each_csv)\n",
    "    for chunk_df1 in pd.read_csv(file_path, chunksize=10000):\n",
    "        merged_list.append(chunk_df1)"
   ]
  },
  {
   "cell_type": "code",
   "execution_count": 4,
   "id": "df3c4174",
   "metadata": {},
   "outputs": [],
   "source": [
    "combined_dataset = pd.concat(merged_list, ignore_index=True)"
   ]
  },
  {
   "cell_type": "code",
   "execution_count": 5,
   "id": "e77ab12f",
   "metadata": {},
   "outputs": [],
   "source": [
    "combined_dataset = combined_dataset.dropna(subset=[\"Label\"])  # Drop rows where Label column is null"
   ]
  },
  {
   "cell_type": "code",
   "execution_count": 6,
   "id": "761b989c",
   "metadata": {},
   "outputs": [
    {
     "name": "stdout",
     "output_type": "stream",
     "text": [
      "<class 'pandas.core.frame.DataFrame'>\n",
      "Int64Index: 22633845 entries, 1 to 32140644\n",
      "Data columns (total 11 columns):\n",
      " #   Column         Non-Null Count     Dtype  \n",
      "---  ------         --------------     -----  \n",
      " 0   Label          22633845 non-null  object \n",
      " 1   Time           22633845 non-null  object \n",
      " 2   Proto          22633845 non-null  float64\n",
      " 3   Seq_Num        21880193 non-null  float64\n",
      " 4   Ack_Num        21880193 non-null  float64\n",
      " 5   TCP_Flag       21880193 non-null  object \n",
      " 6   TTL            22633845 non-null  float64\n",
      " 7   Window_Size    21880193 non-null  float64\n",
      " 8   TCP_Checksum   21880193 non-null  float64\n",
      " 9   Packet_Length  22633845 non-null  float64\n",
      " 10  Payload        22633845 non-null  float64\n",
      "dtypes: float64(8), object(3)\n",
      "memory usage: 2.0+ GB\n"
     ]
    }
   ],
   "source": [
    "combined_dataset.info(show_counts=True)"
   ]
  },
  {
   "cell_type": "code",
   "execution_count": 7,
   "id": "518ab322",
   "metadata": {},
   "outputs": [
    {
     "data": {
      "text/plain": [
       "6.0     21880193\n",
       "17.0      753652\n",
       "Name: Proto, dtype: int64"
      ]
     },
     "execution_count": 7,
     "metadata": {},
     "output_type": "execute_result"
    }
   ],
   "source": [
    "combined_dataset.Proto.value_counts()"
   ]
  },
  {
   "cell_type": "code",
   "execution_count": 8,
   "id": "119a467e",
   "metadata": {},
   "outputs": [],
   "source": [
    "combined_dataset.drop(['Time', 'Proto'], axis=1, inplace=True)"
   ]
  },
  {
   "cell_type": "code",
   "execution_count": 9,
   "id": "7118a107",
   "metadata": {},
   "outputs": [
    {
     "data": {
      "text/html": [
       "<div>\n",
       "<style scoped>\n",
       "    .dataframe tbody tr th:only-of-type {\n",
       "        vertical-align: middle;\n",
       "    }\n",
       "\n",
       "    .dataframe tbody tr th {\n",
       "        vertical-align: top;\n",
       "    }\n",
       "\n",
       "    .dataframe thead th {\n",
       "        text-align: right;\n",
       "    }\n",
       "</style>\n",
       "<table border=\"1\" class=\"dataframe\">\n",
       "  <thead>\n",
       "    <tr style=\"text-align: right;\">\n",
       "      <th></th>\n",
       "      <th>Label</th>\n",
       "      <th>Seq_Num</th>\n",
       "      <th>Ack_Num</th>\n",
       "      <th>TCP_Flag</th>\n",
       "      <th>TTL</th>\n",
       "      <th>Window_Size</th>\n",
       "      <th>TCP_Checksum</th>\n",
       "      <th>Packet_Length</th>\n",
       "      <th>Payload</th>\n",
       "    </tr>\n",
       "  </thead>\n",
       "  <tbody>\n",
       "    <tr>\n",
       "      <th>1</th>\n",
       "      <td>DoS attacks-Hulk</td>\n",
       "      <td>1.442254e+09</td>\n",
       "      <td>2.542187e+09</td>\n",
       "      <td>A</td>\n",
       "      <td>128.0</td>\n",
       "      <td>278.0</td>\n",
       "      <td>16795.0</td>\n",
       "      <td>40.0</td>\n",
       "      <td>1.653318</td>\n",
       "    </tr>\n",
       "    <tr>\n",
       "      <th>2</th>\n",
       "      <td>DoS attacks-Hulk</td>\n",
       "      <td>1.442254e+09</td>\n",
       "      <td>2.542187e+09</td>\n",
       "      <td>A</td>\n",
       "      <td>128.0</td>\n",
       "      <td>278.0</td>\n",
       "      <td>16795.0</td>\n",
       "      <td>40.0</td>\n",
       "      <td>1.653318</td>\n",
       "    </tr>\n",
       "    <tr>\n",
       "      <th>3</th>\n",
       "      <td>DoS attacks-Hulk</td>\n",
       "      <td>1.442254e+09</td>\n",
       "      <td>2.542187e+09</td>\n",
       "      <td>A</td>\n",
       "      <td>128.0</td>\n",
       "      <td>278.0</td>\n",
       "      <td>16795.0</td>\n",
       "      <td>40.0</td>\n",
       "      <td>1.653318</td>\n",
       "    </tr>\n",
       "    <tr>\n",
       "      <th>4</th>\n",
       "      <td>DoS attacks-Hulk</td>\n",
       "      <td>1.442254e+09</td>\n",
       "      <td>2.542187e+09</td>\n",
       "      <td>A</td>\n",
       "      <td>128.0</td>\n",
       "      <td>278.0</td>\n",
       "      <td>16795.0</td>\n",
       "      <td>40.0</td>\n",
       "      <td>1.653318</td>\n",
       "    </tr>\n",
       "    <tr>\n",
       "      <th>5</th>\n",
       "      <td>DoS attacks-Hulk</td>\n",
       "      <td>1.442254e+09</td>\n",
       "      <td>2.542187e+09</td>\n",
       "      <td>A</td>\n",
       "      <td>128.0</td>\n",
       "      <td>278.0</td>\n",
       "      <td>16795.0</td>\n",
       "      <td>40.0</td>\n",
       "      <td>1.653318</td>\n",
       "    </tr>\n",
       "  </tbody>\n",
       "</table>\n",
       "</div>"
      ],
      "text/plain": [
       "              Label       Seq_Num       Ack_Num TCP_Flag    TTL  Window_Size  \\\n",
       "1  DoS attacks-Hulk  1.442254e+09  2.542187e+09        A  128.0        278.0   \n",
       "2  DoS attacks-Hulk  1.442254e+09  2.542187e+09        A  128.0        278.0   \n",
       "3  DoS attacks-Hulk  1.442254e+09  2.542187e+09        A  128.0        278.0   \n",
       "4  DoS attacks-Hulk  1.442254e+09  2.542187e+09        A  128.0        278.0   \n",
       "5  DoS attacks-Hulk  1.442254e+09  2.542187e+09        A  128.0        278.0   \n",
       "\n",
       "   TCP_Checksum  Packet_Length   Payload  \n",
       "1       16795.0           40.0  1.653318  \n",
       "2       16795.0           40.0  1.653318  \n",
       "3       16795.0           40.0  1.653318  \n",
       "4       16795.0           40.0  1.653318  \n",
       "5       16795.0           40.0  1.653318  "
      ]
     },
     "execution_count": 9,
     "metadata": {},
     "output_type": "execute_result"
    }
   ],
   "source": [
    "combined_dataset.head()"
   ]
  },
  {
   "cell_type": "code",
   "execution_count": 10,
   "id": "4f3e4a46",
   "metadata": {},
   "outputs": [],
   "source": [
    "#count_classes = pd.value_counts(combined_dataset['Proto'], sort = True)\n",
    "#count_classes.plot(kind = 'bar', rot=0)\n",
    "#plt.title(\"Label Distribution\")\n",
    "#plt.xlabel(\"Label\")\n",
    "#plt.ylabel(\"Frequency\")"
   ]
  },
  {
   "cell_type": "code",
   "execution_count": 11,
   "id": "6e9ad8f7",
   "metadata": {},
   "outputs": [],
   "source": [
    "#combined_dataset = combined_dataset.dropna()"
   ]
  },
  {
   "cell_type": "code",
   "execution_count": 12,
   "id": "f8bfa3b1",
   "metadata": {},
   "outputs": [
    {
     "name": "stdout",
     "output_type": "stream",
     "text": [
      "<class 'pandas.core.frame.DataFrame'>\n",
      "Int64Index: 22633845 entries, 1 to 32140644\n",
      "Data columns (total 9 columns):\n",
      " #   Column         Non-Null Count     Dtype  \n",
      "---  ------         --------------     -----  \n",
      " 0   Label          22633845 non-null  object \n",
      " 1   Seq_Num        21880193 non-null  float64\n",
      " 2   Ack_Num        21880193 non-null  float64\n",
      " 3   TCP_Flag       21880193 non-null  object \n",
      " 4   TTL            22633845 non-null  float64\n",
      " 5   Window_Size    21880193 non-null  float64\n",
      " 6   TCP_Checksum   21880193 non-null  float64\n",
      " 7   Packet_Length  22633845 non-null  float64\n",
      " 8   Payload        22633845 non-null  float64\n",
      "dtypes: float64(7), object(2)\n",
      "memory usage: 1.7+ GB\n"
     ]
    }
   ],
   "source": [
    "combined_dataset.info(show_counts=True)"
   ]
  },
  {
   "cell_type": "code",
   "execution_count": 13,
   "id": "20fa5d93",
   "metadata": {},
   "outputs": [],
   "source": [
    "\n",
    "#freq_imputer = SimpleImputer(strategy='most_frequent')\n",
    "\n",
    "#protocol = combined_dataset.drop('', axis=1)\n",
    "\n",
    "\n",
    "#combined_dataset.Proto = freq_imputer.fit_transform(protocol)\n",
    "\n",
    "# Calculate the mode value of column 'B'\n",
    "mode_value = combined_dataset['TCP_Flag'].mode()[0]\n",
    "\n",
    "# Fill missing values in column 'B' with the mode value\n",
    "combined_dataset['TCP_Flag'] = combined_dataset['TCP_Flag'].fillna(mode_value)\n",
    "#Drop a row where the source port and destination ports are not known\n",
    "\n",
    "#dataset = dataset.dropna(subset=[\"Dest_Port\", 'Seq_Num', 'Ack_Num', 'TCP_Flag'])\n"
   ]
  },
  {
   "cell_type": "markdown",
   "id": "8520f45b",
   "metadata": {},
   "source": [
    "#### It is unusual to have zero as the value of sequence number and acknowledgment number"
   ]
  },
  {
   "cell_type": "code",
   "execution_count": 14,
   "id": "9000e5b8",
   "metadata": {},
   "outputs": [],
   "source": [
    "combined_dataset.Ack_Num = combined_dataset.Ack_Num.fillna(0)#zero_imputer.fit_transform(ack_num)\n",
    "combined_dataset.Seq_Num = combined_dataset.Seq_Num.fillna(0)#zero_imputer.fit_transform(seq_num)"
   ]
  },
  {
   "cell_type": "markdown",
   "id": "0d8cfa60",
   "metadata": {},
   "source": [
    "#### For median imputer"
   ]
  },
  {
   "cell_type": "code",
   "execution_count": 15,
   "id": "d6fe831d",
   "metadata": {},
   "outputs": [],
   "source": [
    "combined_dataset[['TCP_Checksum', 'Window_Size']] = combined_dataset[['TCP_Checksum', 'Window_Size']].fillna(combined_dataset[['TCP_Checksum', 'Window_Size']].median())"
   ]
  },
  {
   "cell_type": "code",
   "execution_count": 16,
   "id": "15d2c049",
   "metadata": {},
   "outputs": [],
   "source": [
    "ord_encoder = OrdinalEncoder()\n",
    "combined_dataset['TCP_Flag'] = ord_encoder.fit_transform(combined_dataset[['TCP_Flag']])"
   ]
  },
  {
   "cell_type": "code",
   "execution_count": 17,
   "id": "cdcce6d3",
   "metadata": {},
   "outputs": [
    {
     "name": "stdout",
     "output_type": "stream",
     "text": [
      "<class 'pandas.core.frame.DataFrame'>\n",
      "Int64Index: 22633845 entries, 1 to 32140644\n",
      "Data columns (total 9 columns):\n",
      " #   Column         Non-Null Count     Dtype  \n",
      "---  ------         --------------     -----  \n",
      " 0   Label          22633845 non-null  object \n",
      " 1   Seq_Num        22633845 non-null  float64\n",
      " 2   Ack_Num        22633845 non-null  float64\n",
      " 3   TCP_Flag       22633845 non-null  float64\n",
      " 4   TTL            22633845 non-null  float64\n",
      " 5   Window_Size    22633845 non-null  float64\n",
      " 6   TCP_Checksum   22633845 non-null  float64\n",
      " 7   Packet_Length  22633845 non-null  float64\n",
      " 8   Payload        22633845 non-null  float64\n",
      "dtypes: float64(8), object(1)\n",
      "memory usage: 1.7+ GB\n"
     ]
    }
   ],
   "source": [
    "combined_dataset.info(show_counts=True)"
   ]
  },
  {
   "cell_type": "code",
   "execution_count": 18,
   "id": "0541a7b4",
   "metadata": {},
   "outputs": [
    {
     "data": {
      "text/plain": [
       "0.0     12762861\n",
       "3.0      4368856\n",
       "6.0      1847119\n",
       "11.0     1757816\n",
       "8.0      1061130\n",
       "1.0       830053\n",
       "5.0         4851\n",
       "2.0          834\n",
       "9.0          313\n",
       "4.0            7\n",
       "10.0           3\n",
       "7.0            2\n",
       "Name: TCP_Flag, dtype: int64"
      ]
     },
     "execution_count": 18,
     "metadata": {},
     "output_type": "execute_result"
    }
   ],
   "source": [
    "combined_dataset.TCP_Flag.value_counts()"
   ]
  },
  {
   "cell_type": "code",
   "execution_count": 19,
   "id": "b31c77f9",
   "metadata": {},
   "outputs": [],
   "source": [
    "# create a dictionary to map the values\n",
    "label_map = {'Benign': 0, 'DoS attacks-Hulk': 1, 'DDOS attack-HOIC': 1, 'Infilteration': 1, 'SSH-Bruteforce': 1, 'DoS attacks-GoldenEye': 1, 'Brute Force -XSS': 1, 'SQL Injection': 1}\n",
    "\n",
    "# replace the values in the label column\n",
    "combined_dataset.Label = combined_dataset['Label'].replace(label_map)"
   ]
  },
  {
   "cell_type": "code",
   "execution_count": 20,
   "id": "eaf61a74",
   "metadata": {},
   "outputs": [],
   "source": [
    "# replace the values in the label column\n",
    "label = combined_dataset['Label']"
   ]
  },
  {
   "cell_type": "markdown",
   "id": "55770f98",
   "metadata": {},
   "source": [
    "#### Normalize the data to [0,1]"
   ]
  },
  {
   "cell_type": "code",
   "execution_count": 21,
   "id": "3be73165",
   "metadata": {},
   "outputs": [],
   "source": [
    "#Normalize by columns\n",
    "def normalize_columns(df, cols):\n",
    "    for col_name in cols:\n",
    "        df[col_name] = (df[col_name]-df[col_name].min())/(df[col_name].max()-df[col_name].min())\n",
    "        \n",
    "    return df\n",
    "\n",
    "#column = 'Column 1'\n",
    "#df_sklearn[column] = MinMaxScaler().fit_transform(np.array(df_sklearn[column]).reshape(-1,1))\n",
    "#for col_name in cols:\n",
    "#    train_data_norm[col_name] = (df[col_name]-df[col_name].min())/(df[col_name].max()-df[col_name].min())"
   ]
  },
  {
   "cell_type": "markdown",
   "id": "b7d4e478",
   "metadata": {},
   "source": [
    "## Sparse Autoencoder"
   ]
  },
  {
   "cell_type": "code",
   "execution_count": 22,
   "id": "136c8876",
   "metadata": {},
   "outputs": [],
   "source": [
    "combined_dataset_norm = combined_dataset.loc[combined_dataset.Label == 0]"
   ]
  },
  {
   "cell_type": "code",
   "execution_count": 23,
   "id": "7711d570",
   "metadata": {},
   "outputs": [],
   "source": [
    "combined_dataset_abnorm = combined_dataset.loc[combined_dataset.Label == 1]"
   ]
  },
  {
   "cell_type": "code",
   "execution_count": 24,
   "id": "f49c9256",
   "metadata": {},
   "outputs": [],
   "source": [
    "combined_dataset_norm, combined_dataset_norm2,  = train_test_split(combined_dataset_norm, test_size=0.1, random_state=42)"
   ]
  },
  {
   "cell_type": "code",
   "execution_count": 25,
   "id": "e4ed3526",
   "metadata": {},
   "outputs": [],
   "source": [
    "#combined_dataset_norm.index.values"
   ]
  },
  {
   "cell_type": "markdown",
   "id": "28ce33d5",
   "metadata": {},
   "source": [
    "## Segmentation for CNN Sparse Autoencoder"
   ]
  },
  {
   "cell_type": "code",
   "execution_count": 26,
   "id": "e8c1cc95",
   "metadata": {},
   "outputs": [
    {
     "data": {
      "text/plain": [
       "'new_dir= \\'SAEImageSet/\\'\\n#name = \"\".join([new_dir, \"Thu_1_dataset.csv\"])\\n\\ntry:\\n    makedirs(new_dir, exist_ok=True)\\nexcept OSError as error:\\n    print(error)\\n\\n\\n\\ndef row_to_bytes(row):\\n    # Convert the row to a byte string\\n    #byte_row = \\',\\'.join([str(x) for x in row]).encode(\\'utf-8\\')\\n    target_shape = (9, 9) #Desired shape\\n    byte_lst=[]\\n    \\n    for x in row:\\n        byte_row = str(row).encode(\\'utf-8\\')\\n        # Convert the bytes to a NumPy array\\n        packet_data = np.frombuffer(byte_row, dtype=np.uint8)\\n        byte_lst.append(packet_data)\\n\\n    #concatenate=np.concatenate(byte_lst)\\n    #np.array(concatenate.resize(target_shape))\\n    #plt.imshow(concatenate, cmap=\\'gray\\')\\n    #plt.axis(\\'off\\')\\n    #plt.savefig(f\\'ImageDataset/train/img_{index}.png\\')\\n    \\n    return byte_lst\\n\\n#def row_to_image(row):\\n    #image_list=[]\\n    #target_shape = (11, 11) #Desired shape\\n    \\n    #for conc in row:\\n#    concatenate=np.concatenate(row)\\n #   np.array(concatenate.resize(target_shape))\\n #   image_list.append(concatenate)\\n    \\n  #  return image_list\\n\\ndef row_to_train_image(arr_data, index):\\n    concatenate = np.concatenate(arr_data)\\n    target_shape = (9, 9) #Desired shape\\n\\n    np.array(concatenate.resize(target_shape))\\n        \\n    plt.imshow(concatenate)\\n    plt.axis(\\'off\\')\\n    \\n    for i in index:\\n        plt.savefig(f\\'SAEImageSet/normal/img_{i}_normal.png\\', bbox_inches = \\'tight\\', pad_inches = 0)\\n        \\n    print(index)\\n    return 0\\n    \\ndef row_to_test_image(arr_data, index, classname):\\n    print(index)\\n    concatenate = np.concatenate(arr_data)\\n    target_shape = (9, 9) #Desired shape\\n\\n    np.array(concatenate.resize(target_shape))\\n        \\n    plt.imshow(concatenate)\\n    plt.axis(\\'off\\')\\n    for i in index:\\n        plt.savefig(f\\'SAEImageSet/anormalous/img_{i}_anormalous.png\\', bbox_inches = \\'tight\\', pad_inches = 0)\\n    #plt.close()\\n    \\n    return 0'"
      ]
     },
     "execution_count": 26,
     "metadata": {},
     "output_type": "execute_result"
    }
   ],
   "source": [
    "\"\"\"new_dir= 'SAEImageSet/'\n",
    "#name = \"\".join([new_dir, \"Thu_1_dataset.csv\"])\n",
    "\n",
    "try:\n",
    "    makedirs(new_dir, exist_ok=True)\n",
    "except OSError as error:\n",
    "    print(error)\n",
    "\n",
    "\n",
    "\n",
    "def row_to_bytes(row):\n",
    "    # Convert the row to a byte string\n",
    "    #byte_row = ','.join([str(x) for x in row]).encode('utf-8')\n",
    "    target_shape = (9, 9) #Desired shape\n",
    "    byte_lst=[]\n",
    "    \n",
    "    for x in row:\n",
    "        byte_row = str(row).encode('utf-8')\n",
    "        # Convert the bytes to a NumPy array\n",
    "        packet_data = np.frombuffer(byte_row, dtype=np.uint8)\n",
    "        byte_lst.append(packet_data)\n",
    "\n",
    "    #concatenate=np.concatenate(byte_lst)\n",
    "    #np.array(concatenate.resize(target_shape))\n",
    "    #plt.imshow(concatenate, cmap='gray')\n",
    "    #plt.axis('off')\n",
    "    #plt.savefig(f'ImageDataset/train/img_{index}.png')\n",
    "    \n",
    "    return byte_lst\n",
    "\n",
    "#def row_to_image(row):\n",
    "    #image_list=[]\n",
    "    #target_shape = (11, 11) #Desired shape\n",
    "    \n",
    "    #for conc in row:\n",
    "#    concatenate=np.concatenate(row)\n",
    " #   np.array(concatenate.resize(target_shape))\n",
    " #   image_list.append(concatenate)\n",
    "    \n",
    "  #  return image_list\n",
    "\n",
    "def row_to_train_image(arr_data, index):\n",
    "    concatenate = np.concatenate(arr_data)\n",
    "    target_shape = (9, 9) #Desired shape\n",
    "\n",
    "    np.array(concatenate.resize(target_shape))\n",
    "        \n",
    "    plt.imshow(concatenate)\n",
    "    plt.axis('off')\n",
    "    \n",
    "    for i in index:\n",
    "        plt.savefig(f'SAEImageSet/normal/img_{i}_normal.png', bbox_inches = 'tight', pad_inches = 0)\n",
    "        \n",
    "    print(index)\n",
    "    return 0\n",
    "    \n",
    "def row_to_test_image(arr_data, index, classname):\n",
    "    print(index)\n",
    "    concatenate = np.concatenate(arr_data)\n",
    "    target_shape = (9, 9) #Desired shape\n",
    "\n",
    "    np.array(concatenate.resize(target_shape))\n",
    "        \n",
    "    plt.imshow(concatenate)\n",
    "    plt.axis('off')\n",
    "    for i in index:\n",
    "        plt.savefig(f'SAEImageSet/anormalous/img_{i}_anormalous.png', bbox_inches = 'tight', pad_inches = 0)\n",
    "    #plt.close()\n",
    "    \n",
    "    return 0\"\"\""
   ]
  },
  {
   "cell_type": "code",
   "execution_count": 27,
   "id": "19e86e8c",
   "metadata": {},
   "outputs": [
    {
     "data": {
      "text/plain": [
       "1655153"
      ]
     },
     "execution_count": 27,
     "metadata": {},
     "output_type": "execute_result"
    }
   ],
   "source": [
    "len(combined_dataset_norm2)"
   ]
  },
  {
   "cell_type": "code",
   "execution_count": 28,
   "id": "307dc6b9",
   "metadata": {},
   "outputs": [
    {
     "data": {
      "text/plain": [
       "\"byte_df = combined_dataset_norm2.drop('Label', axis=1).apply(row_to_bytes, axis=1)\\nindex=byte_df.index.values\\nbyte_df.apply(row_to_train_image, index=index)\\nprint('Finish')\""
      ]
     },
     "execution_count": 28,
     "metadata": {},
     "output_type": "execute_result"
    }
   ],
   "source": [
    "\"\"\"byte_df = combined_dataset_norm2.drop('Label', axis=1).apply(row_to_bytes, axis=1)\n",
    "index=byte_df.index.values\n",
    "byte_df.apply(row_to_train_image, index=index)\n",
    "print('Finish')\"\"\""
   ]
  },
  {
   "cell_type": "code",
   "execution_count": 29,
   "id": "54ac2464",
   "metadata": {},
   "outputs": [
    {
     "data": {
      "text/plain": [
       "'byte_df = combined_dataset_abnorm.apply(row_to_bytes, axis=1)\\nindex=byte_df.index.values\\nbyte_df.apply(row_to_test_image, index=index)'"
      ]
     },
     "execution_count": 29,
     "metadata": {},
     "output_type": "execute_result"
    }
   ],
   "source": [
    "\"\"\"byte_df = combined_dataset_abnorm.apply(row_to_bytes, axis=1)\n",
    "index=byte_df.index.values\n",
    "byte_df.apply(row_to_test_image, index=index)\"\"\""
   ]
  },
  {
   "cell_type": "code",
   "execution_count": 30,
   "id": "666fd56f",
   "metadata": {},
   "outputs": [],
   "source": [
    "combined_dataset_abnorm = pd.concat([combined_dataset_norm2, combined_dataset_abnorm], ignore_index=True)"
   ]
  },
  {
   "cell_type": "code",
   "execution_count": 31,
   "id": "7ee6a0b4",
   "metadata": {},
   "outputs": [
    {
     "data": {
      "text/plain": [
       "7737477"
      ]
     },
     "execution_count": 31,
     "metadata": {},
     "output_type": "execute_result"
    }
   ],
   "source": [
    "len(combined_dataset_abnorm)"
   ]
  },
  {
   "cell_type": "code",
   "execution_count": 32,
   "id": "cdb71aa3",
   "metadata": {},
   "outputs": [],
   "source": [
    "combined_dataset_norm_y = combined_dataset_norm.Label"
   ]
  },
  {
   "cell_type": "code",
   "execution_count": 33,
   "id": "05f30851",
   "metadata": {},
   "outputs": [],
   "source": [
    "combined_dataset_norm = combined_dataset_norm.drop('Label', axis=1).astype(float)"
   ]
  },
  {
   "cell_type": "code",
   "execution_count": 34,
   "id": "bcb6fac4",
   "metadata": {},
   "outputs": [],
   "source": [
    "combined_dataset_abnorm_y = combined_dataset_abnorm.Label"
   ]
  },
  {
   "cell_type": "code",
   "execution_count": 35,
   "id": "2c9f72bb",
   "metadata": {},
   "outputs": [],
   "source": [
    "combined_dataset_abnorm = combined_dataset_abnorm.drop('Label', axis=1).astype(float)"
   ]
  },
  {
   "cell_type": "code",
   "execution_count": 36,
   "id": "95be7f24",
   "metadata": {},
   "outputs": [],
   "source": [
    "combined_dataset_norm = normalize_columns(combined_dataset_norm, combined_dataset_norm.columns.values)"
   ]
  },
  {
   "cell_type": "code",
   "execution_count": 37,
   "id": "e38cf806",
   "metadata": {},
   "outputs": [],
   "source": [
    "combined_dataset_abnorm = normalize_columns(combined_dataset_abnorm, combined_dataset_abnorm.columns.values)"
   ]
  },
  {
   "cell_type": "code",
   "execution_count": 38,
   "id": "38b527f7",
   "metadata": {},
   "outputs": [
    {
     "data": {
      "text/html": [
       "<div>\n",
       "<style scoped>\n",
       "    .dataframe tbody tr th:only-of-type {\n",
       "        vertical-align: middle;\n",
       "    }\n",
       "\n",
       "    .dataframe tbody tr th {\n",
       "        vertical-align: top;\n",
       "    }\n",
       "\n",
       "    .dataframe thead th {\n",
       "        text-align: right;\n",
       "    }\n",
       "</style>\n",
       "<table border=\"1\" class=\"dataframe\">\n",
       "  <thead>\n",
       "    <tr style=\"text-align: right;\">\n",
       "      <th></th>\n",
       "      <th>Seq_Num</th>\n",
       "      <th>Ack_Num</th>\n",
       "      <th>TCP_Flag</th>\n",
       "      <th>TTL</th>\n",
       "      <th>Window_Size</th>\n",
       "      <th>TCP_Checksum</th>\n",
       "      <th>Packet_Length</th>\n",
       "      <th>Payload</th>\n",
       "    </tr>\n",
       "  </thead>\n",
       "  <tbody>\n",
       "    <tr>\n",
       "      <th>0</th>\n",
       "      <td>0.435982</td>\n",
       "      <td>0.535331</td>\n",
       "      <td>0.000000</td>\n",
       "      <td>0.496063</td>\n",
       "      <td>0.031327</td>\n",
       "      <td>0.925352</td>\n",
       "      <td>0.000620</td>\n",
       "      <td>0.738751</td>\n",
       "    </tr>\n",
       "    <tr>\n",
       "      <th>1</th>\n",
       "      <td>0.935024</td>\n",
       "      <td>0.526787</td>\n",
       "      <td>0.000000</td>\n",
       "      <td>0.496063</td>\n",
       "      <td>0.031266</td>\n",
       "      <td>0.178793</td>\n",
       "      <td>0.000620</td>\n",
       "      <td>0.629304</td>\n",
       "    </tr>\n",
       "    <tr>\n",
       "      <th>2</th>\n",
       "      <td>0.017393</td>\n",
       "      <td>0.303264</td>\n",
       "      <td>0.272727</td>\n",
       "      <td>0.393701</td>\n",
       "      <td>0.003952</td>\n",
       "      <td>0.440596</td>\n",
       "      <td>0.002978</td>\n",
       "      <td>0.835279</td>\n",
       "    </tr>\n",
       "    <tr>\n",
       "      <th>3</th>\n",
       "      <td>0.968666</td>\n",
       "      <td>0.132067</td>\n",
       "      <td>0.000000</td>\n",
       "      <td>0.496063</td>\n",
       "      <td>0.031266</td>\n",
       "      <td>0.215232</td>\n",
       "      <td>0.000620</td>\n",
       "      <td>0.626113</td>\n",
       "    </tr>\n",
       "    <tr>\n",
       "      <th>4</th>\n",
       "      <td>0.939833</td>\n",
       "      <td>0.000000</td>\n",
       "      <td>0.727273</td>\n",
       "      <td>0.417323</td>\n",
       "      <td>0.125002</td>\n",
       "      <td>0.379772</td>\n",
       "      <td>0.000806</td>\n",
       "      <td>0.588947</td>\n",
       "    </tr>\n",
       "    <tr>\n",
       "      <th>...</th>\n",
       "      <td>...</td>\n",
       "      <td>...</td>\n",
       "      <td>...</td>\n",
       "      <td>...</td>\n",
       "      <td>...</td>\n",
       "      <td>...</td>\n",
       "      <td>...</td>\n",
       "      <td>...</td>\n",
       "    </tr>\n",
       "    <tr>\n",
       "      <th>7737472</th>\n",
       "      <td>0.158270</td>\n",
       "      <td>0.118332</td>\n",
       "      <td>0.272727</td>\n",
       "      <td>0.425197</td>\n",
       "      <td>0.003845</td>\n",
       "      <td>0.624210</td>\n",
       "      <td>0.001210</td>\n",
       "      <td>0.664520</td>\n",
       "    </tr>\n",
       "    <tr>\n",
       "      <th>7737473</th>\n",
       "      <td>0.158270</td>\n",
       "      <td>0.118332</td>\n",
       "      <td>0.272727</td>\n",
       "      <td>0.425197</td>\n",
       "      <td>0.003845</td>\n",
       "      <td>0.624210</td>\n",
       "      <td>0.001210</td>\n",
       "      <td>0.664520</td>\n",
       "    </tr>\n",
       "    <tr>\n",
       "      <th>7737474</th>\n",
       "      <td>0.158270</td>\n",
       "      <td>0.118332</td>\n",
       "      <td>0.272727</td>\n",
       "      <td>0.425197</td>\n",
       "      <td>0.003845</td>\n",
       "      <td>0.614261</td>\n",
       "      <td>0.001210</td>\n",
       "      <td>0.664520</td>\n",
       "    </tr>\n",
       "    <tr>\n",
       "      <th>7737475</th>\n",
       "      <td>0.158270</td>\n",
       "      <td>0.118332</td>\n",
       "      <td>0.272727</td>\n",
       "      <td>0.425197</td>\n",
       "      <td>0.003845</td>\n",
       "      <td>0.614261</td>\n",
       "      <td>0.001210</td>\n",
       "      <td>0.664520</td>\n",
       "    </tr>\n",
       "    <tr>\n",
       "      <th>7737476</th>\n",
       "      <td>0.158270</td>\n",
       "      <td>0.118332</td>\n",
       "      <td>0.272727</td>\n",
       "      <td>0.425197</td>\n",
       "      <td>0.003845</td>\n",
       "      <td>0.614261</td>\n",
       "      <td>0.001210</td>\n",
       "      <td>0.664520</td>\n",
       "    </tr>\n",
       "  </tbody>\n",
       "</table>\n",
       "<p>7737477 rows × 8 columns</p>\n",
       "</div>"
      ],
      "text/plain": [
       "          Seq_Num   Ack_Num  TCP_Flag       TTL  Window_Size  TCP_Checksum  \\\n",
       "0        0.435982  0.535331  0.000000  0.496063     0.031327      0.925352   \n",
       "1        0.935024  0.526787  0.000000  0.496063     0.031266      0.178793   \n",
       "2        0.017393  0.303264  0.272727  0.393701     0.003952      0.440596   \n",
       "3        0.968666  0.132067  0.000000  0.496063     0.031266      0.215232   \n",
       "4        0.939833  0.000000  0.727273  0.417323     0.125002      0.379772   \n",
       "...           ...       ...       ...       ...          ...           ...   \n",
       "7737472  0.158270  0.118332  0.272727  0.425197     0.003845      0.624210   \n",
       "7737473  0.158270  0.118332  0.272727  0.425197     0.003845      0.624210   \n",
       "7737474  0.158270  0.118332  0.272727  0.425197     0.003845      0.614261   \n",
       "7737475  0.158270  0.118332  0.272727  0.425197     0.003845      0.614261   \n",
       "7737476  0.158270  0.118332  0.272727  0.425197     0.003845      0.614261   \n",
       "\n",
       "         Packet_Length   Payload  \n",
       "0             0.000620  0.738751  \n",
       "1             0.000620  0.629304  \n",
       "2             0.002978  0.835279  \n",
       "3             0.000620  0.626113  \n",
       "4             0.000806  0.588947  \n",
       "...                ...       ...  \n",
       "7737472       0.001210  0.664520  \n",
       "7737473       0.001210  0.664520  \n",
       "7737474       0.001210  0.664520  \n",
       "7737475       0.001210  0.664520  \n",
       "7737476       0.001210  0.664520  \n",
       "\n",
       "[7737477 rows x 8 columns]"
      ]
     },
     "execution_count": 38,
     "metadata": {},
     "output_type": "execute_result"
    }
   ],
   "source": [
    "combined_dataset_abnorm"
   ]
  },
  {
   "cell_type": "code",
   "execution_count": 39,
   "id": "443f12f1",
   "metadata": {},
   "outputs": [
    {
     "data": {
      "image/png": "[encoded data removed]",
      "text/plain": [
       "<Figure size 432x288 with 1 Axes>"
      ]
     },
     "metadata": {
      "needs_background": "light"
     },
     "output_type": "display_data"
    }
   ],
   "source": [
    "#fig = plt.subplots(nrows=1, ncols=2)\n",
    "plt.grid()\n",
    "plt.plot(np.arange(8), combined_dataset_norm.to_numpy()[172])\n",
    "plt.title(\"Packet one\")\n",
    "plt.yticks([i/10 for i in range(10)])\n",
    "\n",
    "\n",
    "plt.show()"
   ]
  },
  {
   "cell_type": "code",
   "execution_count": 40,
   "id": "3f69fad6",
   "metadata": {},
   "outputs": [],
   "source": [
    "combined_dataset_norm = combined_dataset_norm.to_numpy()\n",
    "combined_dataset_abnorm = combined_dataset_abnorm.to_numpy() "
   ]
  },
  {
   "cell_type": "code",
   "execution_count": 41,
   "id": "119b81d5",
   "metadata": {},
   "outputs": [],
   "source": [
    "#combined_dataset_norm = np.where(np.isnan(combined_dataset_norm), 0, combined_dataset_norm)"
   ]
  },
  {
   "cell_type": "code",
   "execution_count": 42,
   "id": "d4f319ee",
   "metadata": {},
   "outputs": [],
   "source": [
    "#combined_dataset_abnorm = np.where(np.isnan(combined_dataset_abnorm), 0, combined_dataset_abnorm)"
   ]
  },
  {
   "cell_type": "code",
   "execution_count": 43,
   "id": "e7e9acc5",
   "metadata": {},
   "outputs": [
    {
     "name": "stdout",
     "output_type": "stream",
     "text": [
      "False\n"
     ]
    }
   ],
   "source": [
    "print(np.isnan(combined_dataset_abnorm).any())"
   ]
  },
  {
   "cell_type": "code",
   "execution_count": 44,
   "id": "33e43925",
   "metadata": {},
   "outputs": [],
   "source": [
    "class SparseAEAnomalyDetector(Model):\n",
    "    def __init__(self):\n",
    "        super(SparseAEAnomalyDetector, self).__init__()\n",
    "        self.encoder = layers.Dense(32, activation=\"softmax\", activity_regularizer=regularizers.l1_l2(10e-5))\n",
    "\n",
    "        self.decoder = layers.Dense(8, activation=\"sigmoid\")\n",
    "        \n",
    "    def call(self, x):\n",
    "        encoded = self.encoder(x)\n",
    "        decoded = self.decoder(encoded)\n",
    "        return decoded\n",
    "\n",
    "autoencoder = SparseAEAnomalyDetector()"
   ]
  },
  {
   "cell_type": "code",
   "execution_count": 45,
   "id": "326c1677",
   "metadata": {},
   "outputs": [],
   "source": [
    "autoencoder.compile(optimizer='adam', loss='binary_crossentropy')#, metrics=['accuracy'])\n",
    "#Strop training when overfitting is detected\n",
    "early_stopping = tf.keras.callbacks.EarlyStopping(monitor='loss', \n",
    "                                                  patience=5, \n",
    "                                                  min_delta=0.0001, \n",
    "                                                  mode='auto', \n",
    "                                                  verbose=2, \n",
    "                                                  baseline=None, \n",
    "                                                  restore_best_weights=True)\n",
    "\n",
    "logdir = join(\"logs\", dt.datetime.now().strftime(\"%Y%m%d-%H%M%S\"))\n",
    "tensorboard_callback = tf.keras.callbacks.TensorBoard(logdir,profile_batch=0,update_freq='epoch',histogram_freq=1)\n"
   ]
  },
  {
   "cell_type": "code",
   "execution_count": 46,
   "id": "5a7c367d",
   "metadata": {},
   "outputs": [],
   "source": [
    "EPOCHS = 100\n",
    "BATCH_SIZE = 256"
   ]
  },
  {
   "cell_type": "code",
   "execution_count": 47,
   "id": "d480ea28",
   "metadata": {},
   "outputs": [
    {
     "name": "stdout",
     "output_type": "stream",
     "text": [
      "Epoch 1/100\n",
      "58189/58189 [==============================] - 90s 2ms/step - loss: 0.3981 - val_loss: 0.3908\n",
      "Epoch 2/100\n",
      "58189/58189 [==============================] - 79s 1ms/step - loss: 0.3868 - val_loss: 0.3901\n",
      "Epoch 3/100\n",
      "58189/58189 [==============================] - 91s 2ms/step - loss: 0.3863 - val_loss: 0.3893\n",
      "Epoch 4/100\n",
      "58189/58189 [==============================] - 88s 2ms/step - loss: 0.3859 - val_loss: 0.3892\n",
      "Epoch 5/100\n",
      "58189/58189 [==============================] - 84s 1ms/step - loss: 0.3857 - val_loss: 0.3891\n",
      "Epoch 6/100\n",
      "58189/58189 [==============================] - 92s 2ms/step - loss: 0.3856 - val_loss: 0.3889\n",
      "Epoch 7/100\n",
      "58189/58189 [==============================] - 79s 1ms/step - loss: 0.3856 - val_loss: 0.3889\n",
      "Epoch 8/100\n",
      "58189/58189 [==============================] - 86s 1ms/step - loss: 0.3855 - val_loss: 0.3889\n",
      "Epoch 9/100\n",
      "58189/58189 [==============================] - 83s 1ms/step - loss: 0.3855 - val_loss: 0.3888\n",
      "Epoch 10/100\n",
      "58189/58189 [==============================] - 95s 2ms/step - loss: 0.3855 - val_loss: 0.3888\n",
      "Epoch 11/100\n",
      "58189/58189 [==============================] - 98s 2ms/step - loss: 0.3855 - val_loss: 0.3888\n",
      "Epoch 12/100\n",
      "58189/58189 [==============================] - 103s 2ms/step - loss: 0.3855 - val_loss: 0.3888\n",
      "Epoch 13/100\n",
      "58189/58189 [==============================] - 105s 2ms/step - loss: 0.3855 - val_loss: 0.3888\n",
      "Epoch 14/100\n",
      "58166/58189 [============================>.] - ETA: 0s - loss: 0.3854Restoring model weights from the end of the best epoch: 9.\n",
      "58189/58189 [==============================] - 99s 2ms/step - loss: 0.3854 - val_loss: 0.3888\n",
      "Epoch 14: early stopping\n"
     ]
    }
   ],
   "source": [
    "history = autoencoder.fit(combined_dataset_norm, combined_dataset_norm,\n",
    "          epochs=EPOCHS, \n",
    "          batch_size=BATCH_SIZE,\n",
    "          validation_data=(combined_dataset_abnorm, combined_dataset_abnorm),\n",
    "          steps_per_epoch=int(np.ceil(len(combined_dataset_norm) / float(BATCH_SIZE))),\n",
    "          validation_steps=int(np.ceil(len(combined_dataset_abnorm) / float(BATCH_SIZE))),\n",
    "          shuffle=True,\n",
    "          callbacks=[early_stopping, tensorboard_callback])"
   ]
  },
  {
   "cell_type": "code",
   "execution_count": 48,
   "id": "a39ea680",
   "metadata": {},
   "outputs": [
    {
     "data": {
      "image/png": "[encoded data removed]",
      "text/plain": [
       "<Figure size 432x288 with 1 Axes>"
      ]
     },
     "metadata": {
      "needs_background": "light"
     },
     "output_type": "display_data"
    }
   ],
   "source": [
    "plt.plot(history.history[\"loss\"], label=\"Training Loss\")\n",
    "plt.plot(history.history[\"val_loss\"], label=\"Validation Loss\")\n",
    "plt.legend()\n",
    "plt.savefig('Training_Loss_SA_Sup_AD.png')\n",
    "plt.show()"
   ]
  },
  {
   "cell_type": "code",
   "execution_count": 49,
   "id": "de1b88d5",
   "metadata": {},
   "outputs": [
    {
     "data": {
      "image/png": "[encoded data removed]",
      "text/plain": [
       "<Figure size 432x288 with 1 Axes>"
      ]
     },
     "metadata": {
      "needs_background": "light"
     },
     "output_type": "display_data"
    }
   ],
   "source": [
    "encoded_data = autoencoder.encoder(combined_dataset_norm).numpy()\n",
    "decoded_data = autoencoder.decoder(encoded_data).numpy()\n",
    "\n",
    "plt.plot(combined_dataset_norm[12], 'g')\n",
    "plt.plot(decoded_data[12], 'r')\n",
    "plt.fill_between(np.arange(8), decoded_data[12], combined_dataset_norm[12], color='orange')\n",
    "plt.legend(labels=[\"Input\", \"Reconstructed\", \"Error\"])\n",
    "plt.ylabel('Feature Values')\n",
    "plt.xlabel('Number of Features')\n",
    "plt.yticks([i/10 for i in range(10)])\n",
    "plt.savefig(\"rec_0.png\")\n",
    "plt.show()"
   ]
  },
  {
   "cell_type": "code",
   "execution_count": 50,
   "id": "e87f4017",
   "metadata": {},
   "outputs": [],
   "source": [
    "#tf.keras.models.save_model(autoencoder, 'tensormodel/Sparse_Autoencoder_Model_RELU.h5')\n",
    "#history.save_model('Sparse_Autoencoder_Model_RELU.h5')\n",
    "autoencoder.save_weights('Sparse_Autoencoder_Model_Softmax_MSE.h5')"
   ]
  },
  {
   "cell_type": "code",
   "execution_count": 51,
   "id": "a10a6fcc",
   "metadata": {},
   "outputs": [],
   "source": [
    "#autoencoder = tf.saved_model.load('tensormodel/Sparse_Autoencoder_Model_RELU')\n",
    "#tf.keras.models.load_model('CNNAE.h5') "
   ]
  },
  {
   "cell_type": "code",
   "execution_count": 52,
   "id": "bb59c51e",
   "metadata": {},
   "outputs": [
    {
     "name": "stdout",
     "output_type": "stream",
     "text": [
      "465512/465512 [==============================] - 267s 574us/step\n"
     ]
    }
   ],
   "source": [
    "reconstructions_train = autoencoder.predict(combined_dataset_norm)"
   ]
  },
  {
   "cell_type": "code",
   "execution_count": 53,
   "id": "e301c6c6",
   "metadata": {},
   "outputs": [],
   "source": [
    "train_loss = tf.keras.losses.binary_crossentropy(reconstructions_train, combined_dataset_norm)"
   ]
  },
  {
   "cell_type": "code",
   "execution_count": 54,
   "id": "25d1ecbf",
   "metadata": {},
   "outputs": [
    {
     "name": "stderr",
     "output_type": "stream",
     "text": [
      "c:\\Users\\Kasutaja\\anaconda3\\lib\\site-packages\\seaborn\\distributions.py:2619: FutureWarning: `distplot` is a deprecated function and will be removed in a future version. Please adapt your code to use either `displot` (a figure-level function with similar flexibility) or `histplot` (an axes-level function for histograms).\n",
      "  warnings.warn(msg, FutureWarning)\n"
     ]
    },
    {
     "data": {
      "image/png": "[encoded data removed]",
      "text/plain": [
       "<Figure size 900x600 with 1 Axes>"
      ]
     },
     "metadata": {
      "needs_background": "light"
     },
     "output_type": "display_data"
    }
   ],
   "source": [
    "# Plot the histogram using seaborn\n",
    "plt.subplots(dpi=150)\n",
    "\n",
    "dist_sns = sns.distplot(train_loss[None,:], color=\"b\")\n",
    "\n",
    "plt.xlabel(\"Train Loss\")\n",
    "plt.ylabel(\"Number of Samples\")\n",
    "plt.savefig(\"sns_distri.png\")"
   ]
  },
  {
   "cell_type": "code",
   "execution_count": 55,
   "id": "325abc4a",
   "metadata": {},
   "outputs": [
    {
     "name": "stdout",
     "output_type": "stream",
     "text": [
      "Threshold median: 0.5672585463325271\n"
     ]
    }
   ],
   "source": [
    "# Compute the median and MAD of the reconstruction error\n",
    "b = 1.4826\n",
    "median = np.median(train_loss)\n",
    "mad = b * np.median(np.abs(train_loss - median))\n",
    "\n",
    "# Set the threshold based on the median and MAD\n",
    "k = 3\n",
    "threshold_median = median + k * mad\n",
    "\n",
    "\n",
    "print(\"Threshold median:\", threshold_median) "
   ]
  },
  {
   "cell_type": "code",
   "execution_count": 56,
   "id": "e12fec3a",
   "metadata": {},
   "outputs": [
    {
     "name": "stdout",
     "output_type": "stream",
     "text": [
      "Threshold std: 0.5037135877055894\n"
     ]
    }
   ],
   "source": [
    "threshold_std = np.mean(train_loss) + 2*(np.std(train_loss))\n",
    "print(\"Threshold std:\", threshold_std) "
   ]
  },
  {
   "cell_type": "code",
   "execution_count": 57,
   "id": "2129ac6a",
   "metadata": {},
   "outputs": [
    {
     "name": "stdout",
     "output_type": "stream",
     "text": [
      "Threshold percentile: 0.2687269440963301\n"
     ]
    }
   ],
   "source": [
    "#Threshold using Percentile\n",
    "l_1, l_0  =  label.value_counts()\n",
    "threshold_perc =  (l_0/(l_1 + l_0))\n",
    "print(\"Threshold percentile:\", threshold_perc)"
   ]
  },
  {
   "cell_type": "code",
   "execution_count": 58,
   "id": "b94578c5",
   "metadata": {},
   "outputs": [],
   "source": [
    "def predict(model, data, threshold):\n",
    "    reconstructions = model(data)\n",
    "    loss = tf.keras.losses.binary_crossentropy(reconstructions, data)\n",
    "    return reconstructions, loss, tf.math.less(loss, threshold) #Returns the truth value of (loss < threshold) element-wise.\n",
    "\n",
    "def print_stats(true_labels, predictions):\n",
    "    print(f\"Accuracy = {round(accuracy_score(true_labels, predictions), 2)}\")\n",
    "    print(f\"Precision = {round(precision_score(true_labels, predictions), 2)}\")\n",
    "    print(f\"Recall = {round(recall_score(true_labels, predictions), 2)}\")\n",
    "    \n",
    "    "
   ]
  },
  {
   "cell_type": "code",
   "execution_count": 59,
   "id": "da3634de",
   "metadata": {},
   "outputs": [],
   "source": [
    "model, rec_loss, pred_ = predict(autoencoder, combined_dataset_abnorm, threshold_std)"
   ]
  },
  {
   "cell_type": "code",
   "execution_count": 60,
   "id": "470040d4",
   "metadata": {},
   "outputs": [],
   "source": [
    "#plot_precision_recall_vs_threshold(precisions, recalls, thresholds)\n",
    "#plt.show()"
   ]
  },
  {
   "cell_type": "code",
   "execution_count": 61,
   "id": "a5141918",
   "metadata": {},
   "outputs": [
    {
     "data": {
      "image/png": "[encoded data removed]",
      "text/plain": [
       "<Figure size 432x288 with 1 Axes>"
      ]
     },
     "metadata": {
      "needs_background": "light"
     },
     "output_type": "display_data"
    }
   ],
   "source": [
    "a=np.array(rec_loss[None,:])\n",
    "\n",
    "anomaly = a[a >= threshold_std]\n",
    "normal =  a[a < threshold_std]\n",
    "\n",
    "plt.hist(normal, color='g')\n",
    "plt.hist(anomaly, color='orange')\n",
    "plt.xlabel(\"Testing loss\")\n",
    "plt.ylabel(\"No of Samples\")\n",
    "\n",
    "plt.axvline(threshold_std, color='red', linestyle='dotted', linewidth=2)\n",
    "plt.savefig(\"Anomaly Sample STD.png\")\n",
    "plt.show()"
   ]
  },
  {
   "cell_type": "code",
   "execution_count": 62,
   "id": "36759bc9",
   "metadata": {},
   "outputs": [
    {
     "name": "stdout",
     "output_type": "stream",
     "text": [
      "Accuracy = 0.79\n",
      "Precision = 0.79\n",
      "Recall = 1.0\n"
     ]
    }
   ],
   "source": [
    "print_stats(combined_dataset_abnorm_y, pred_)"
   ]
  },
  {
   "cell_type": "code",
   "execution_count": 63,
   "id": "8f931cd7",
   "metadata": {},
   "outputs": [
    {
     "data": {
      "image/png": "[encoded data removed]",
      "text/plain": [
       "<Figure size 432x288 with 2 Axes>"
      ]
     },
     "metadata": {
      "needs_background": "light"
     },
     "output_type": "display_data"
    }
   ],
   "source": [
    "ConfusionMatrixDisplay.from_predictions(combined_dataset_abnorm_y, pred_)\n",
    "plt.show()"
   ]
  },
  {
   "cell_type": "code",
   "execution_count": 112,
   "id": "fbb3a75d",
   "metadata": {},
   "outputs": [],
   "source": [
    "def auprc(dataset, pred_):\n",
    "    precision, recall, thresholds = precision_recall_curve(dataset, pred_)\n",
    "    auprc = average_precision_score(dataset, pred_)\n",
    "    # Use AUC function to calculate the area under the curve of precision recall curve\n",
    "    auc_precision_recall = auc(recall, precision)\n",
    "\n",
    "    return round(auc_precision_recall, 1)\n"
   ]
  },
  {
   "cell_type": "code",
   "execution_count": 113,
   "id": "5c0b42d4",
   "metadata": {},
   "outputs": [
    {
     "data": {
      "text/plain": [
       "0.9"
      ]
     },
     "execution_count": 113,
     "metadata": {},
     "output_type": "execute_result"
    }
   ],
   "source": [
    "#print(round(auc_precision_recall, 1))\n",
    "auprc(combined_dataset_abnorm_y.to_numpy(), pred_)"
   ]
  },
  {
   "cell_type": "code",
   "execution_count": 66,
   "id": "a51ce8ec",
   "metadata": {},
   "outputs": [
    {
     "data": {
      "image/png": "[encoded data removed]",
      "text/plain": [
       "<Figure size 432x288 with 1 Axes>"
      ]
     },
     "metadata": {
      "needs_background": "light"
     },
     "output_type": "display_data"
    }
   ],
   "source": [
    "plt.plot(recall, precision, label='AUPRC = %0.2f' % auprc)\n",
    "plt.show()"
   ]
  },
  {
   "cell_type": "code",
   "execution_count": 67,
   "id": "da01dc6d",
   "metadata": {},
   "outputs": [],
   "source": [
    "#anomaly_shape = tf.math.count_nonzero(pred_)\n",
    "#anomaly_shape"
   ]
  },
  {
   "cell_type": "code",
   "execution_count": 68,
   "id": "3986e9f6",
   "metadata": {},
   "outputs": [],
   "source": [
    "#normal_shape=pred_.shape - anomaly_shape\n",
    "#norm = tf.math.equal(pred_, tf.constant(False))\n",
    "#normal_shape= tf.math.count_nonzero(norm)\n",
    "#normal_shape"
   ]
  },
  {
   "cell_type": "code",
   "execution_count": 69,
   "id": "e111a3cb",
   "metadata": {},
   "outputs": [],
   "source": [
    "#sns.scatterplot(data=pred_, hue=\"time\")\n",
    "#anomaly_pd = pd.DataFrame({'anomaly':anomaly})\n",
    "#fig, (ax1, ax2) = plt.subplots(1,2, figsize=(20,8))\n",
    "#normal_pd = pd.DataFrame({'normal': normal})\n",
    "\n",
    "#am_plt=plt.scatter(anomaly_pd.index, anomaly_pd['anom'], color='r')\n",
    "#plt.show()\n",
    "\n",
    "#nm_plt=plt.scatter(normal_pd.index, normal_pd['norm'], color='g')\n",
    "#plt.show\n",
    "\n",
    "#fig, (ax1, ax2) = plt.subplots(1,2, figsize=(20,8))\n",
    "#sns.scatterplot(anomaly_pd.index, anomaly_pd['anomaly'], y=\"Anomaly\", x='Index', color='red', ax=ax1)\n",
    "#sns.scatterplot(normal_pd.index, normal_pd['normal'], x='Index', color='green', ax=ax2)\n",
    "#plt.savefig('scatterplot.png')\n",
    "#plt.show()"
   ]
  },
  {
   "cell_type": "markdown",
   "id": "c6fe6139",
   "metadata": {},
   "source": [
    "## Isolation Forest Model"
   ]
  },
  {
   "cell_type": "code",
   "execution_count": 70,
   "id": "f5b925d1",
   "metadata": {},
   "outputs": [],
   "source": [
    "train_data_x, test_data_x, train_data_y, test_data_y = train_test_split(combined_dataset.drop('Label', axis=1), label, test_size=0.5, random_state=42)"
   ]
  },
  {
   "cell_type": "code",
   "execution_count": 71,
   "id": "ddf60fab",
   "metadata": {},
   "outputs": [],
   "source": [
    "l_0, l_1 = train_data_y.value_counts()"
   ]
  },
  {
   "cell_type": "code",
   "execution_count": 72,
   "id": "78ba4bf2",
   "metadata": {},
   "outputs": [
    {
     "name": "stdout",
     "output_type": "stream",
     "text": [
      "0.7\n"
     ]
    }
   ],
   "source": [
    "cont = 1 - (l_1 / (l_1 + l_0))\n",
    "\n",
    "#percentage = 100 * float(part)/float(whole)\n",
    "\n",
    "contamination = round(cont, 1)\n",
    "print(contamination)"
   ]
  },
  {
   "cell_type": "code",
   "execution_count": 73,
   "id": "f5613211",
   "metadata": {},
   "outputs": [
    {
     "data": {
      "text/html": [
       "<div>\n",
       "<style scoped>\n",
       "    .dataframe tbody tr th:only-of-type {\n",
       "        vertical-align: middle;\n",
       "    }\n",
       "\n",
       "    .dataframe tbody tr th {\n",
       "        vertical-align: top;\n",
       "    }\n",
       "\n",
       "    .dataframe thead th {\n",
       "        text-align: right;\n",
       "    }\n",
       "</style>\n",
       "<table border=\"1\" class=\"dataframe\">\n",
       "  <thead>\n",
       "    <tr style=\"text-align: right;\">\n",
       "      <th></th>\n",
       "      <th>Label</th>\n",
       "      <th>Seq_Num</th>\n",
       "      <th>Ack_Num</th>\n",
       "      <th>TCP_Flag</th>\n",
       "      <th>TTL</th>\n",
       "      <th>Window_Size</th>\n",
       "      <th>TCP_Checksum</th>\n",
       "      <th>Packet_Length</th>\n",
       "      <th>Payload</th>\n",
       "    </tr>\n",
       "  </thead>\n",
       "  <tbody>\n",
       "    <tr>\n",
       "      <th>1</th>\n",
       "      <td>1</td>\n",
       "      <td>1.442254e+09</td>\n",
       "      <td>2.542187e+09</td>\n",
       "      <td>0.0</td>\n",
       "      <td>128.0</td>\n",
       "      <td>278.0</td>\n",
       "      <td>16795.0</td>\n",
       "      <td>40.0</td>\n",
       "      <td>1.653318</td>\n",
       "    </tr>\n",
       "    <tr>\n",
       "      <th>2</th>\n",
       "      <td>1</td>\n",
       "      <td>1.442254e+09</td>\n",
       "      <td>2.542187e+09</td>\n",
       "      <td>0.0</td>\n",
       "      <td>128.0</td>\n",
       "      <td>278.0</td>\n",
       "      <td>16795.0</td>\n",
       "      <td>40.0</td>\n",
       "      <td>1.653318</td>\n",
       "    </tr>\n",
       "    <tr>\n",
       "      <th>3</th>\n",
       "      <td>1</td>\n",
       "      <td>1.442254e+09</td>\n",
       "      <td>2.542187e+09</td>\n",
       "      <td>0.0</td>\n",
       "      <td>128.0</td>\n",
       "      <td>278.0</td>\n",
       "      <td>16795.0</td>\n",
       "      <td>40.0</td>\n",
       "      <td>1.653318</td>\n",
       "    </tr>\n",
       "    <tr>\n",
       "      <th>4</th>\n",
       "      <td>1</td>\n",
       "      <td>1.442254e+09</td>\n",
       "      <td>2.542187e+09</td>\n",
       "      <td>0.0</td>\n",
       "      <td>128.0</td>\n",
       "      <td>278.0</td>\n",
       "      <td>16795.0</td>\n",
       "      <td>40.0</td>\n",
       "      <td>1.653318</td>\n",
       "    </tr>\n",
       "    <tr>\n",
       "      <th>5</th>\n",
       "      <td>1</td>\n",
       "      <td>1.442254e+09</td>\n",
       "      <td>2.542187e+09</td>\n",
       "      <td>0.0</td>\n",
       "      <td>128.0</td>\n",
       "      <td>278.0</td>\n",
       "      <td>16795.0</td>\n",
       "      <td>40.0</td>\n",
       "      <td>1.653318</td>\n",
       "    </tr>\n",
       "  </tbody>\n",
       "</table>\n",
       "</div>"
      ],
      "text/plain": [
       "   Label       Seq_Num       Ack_Num  TCP_Flag    TTL  Window_Size  \\\n",
       "1      1  1.442254e+09  2.542187e+09       0.0  128.0        278.0   \n",
       "2      1  1.442254e+09  2.542187e+09       0.0  128.0        278.0   \n",
       "3      1  1.442254e+09  2.542187e+09       0.0  128.0        278.0   \n",
       "4      1  1.442254e+09  2.542187e+09       0.0  128.0        278.0   \n",
       "5      1  1.442254e+09  2.542187e+09       0.0  128.0        278.0   \n",
       "\n",
       "   TCP_Checksum  Packet_Length   Payload  \n",
       "1       16795.0           40.0  1.653318  \n",
       "2       16795.0           40.0  1.653318  \n",
       "3       16795.0           40.0  1.653318  \n",
       "4       16795.0           40.0  1.653318  \n",
       "5       16795.0           40.0  1.653318  "
      ]
     },
     "execution_count": 73,
     "metadata": {},
     "output_type": "execute_result"
    }
   ],
   "source": [
    "(combined_dataset.head())"
   ]
  },
  {
   "cell_type": "markdown",
   "id": "bad8a903",
   "metadata": {},
   "source": [
    "#### Isolation Forest Training"
   ]
  },
  {
   "cell_type": "code",
   "execution_count": 74,
   "id": "2d1505f4",
   "metadata": {},
   "outputs": [],
   "source": [
    "iso_forest = IsolationForest(contamination='auto', n_estimators=100, max_samples='auto', max_features=1.0, n_jobs=-1, bootstrap=False, verbose=0, warm_start=False)"
   ]
  },
  {
   "cell_type": "code",
   "execution_count": 90,
   "id": "7a0ee4bb",
   "metadata": {},
   "outputs": [],
   "source": [
    "iso_predict = iso_forest.fit_predict(test_data_x)"
   ]
  },
  {
   "cell_type": "code",
   "execution_count": 76,
   "id": "551d44bf",
   "metadata": {},
   "outputs": [],
   "source": [
    "#iso_predict = iso_forest.predict(test_data_x)"
   ]
  },
  {
   "cell_type": "code",
   "execution_count": 91,
   "id": "2966b127",
   "metadata": {},
   "outputs": [],
   "source": [
    "# Convert -1 and 1 to 1 and 0\n",
    "\n",
    "iso_predict = 1 - ((iso_predict + 1) / 2)"
   ]
  },
  {
   "cell_type": "code",
   "execution_count": 98,
   "id": "6929ef22",
   "metadata": {},
   "outputs": [
    {
     "data": {
      "image/png": "[encoded data removed]",
      "text/plain": [
       "<Figure size 432x288 with 2 Axes>"
      ]
     },
     "metadata": {
      "needs_background": "light"
     },
     "output_type": "display_data"
    }
   ],
   "source": [
    "ConfusionMatrixDisplay.from_predictions(test_data_y, iso_predict)\n",
    "plt.show()"
   ]
  },
  {
   "cell_type": "code",
   "execution_count": 100,
   "id": "a04a3160",
   "metadata": {},
   "outputs": [
    {
     "name": "stdout",
     "output_type": "stream",
     "text": [
      "Accuracy = 0.58\n",
      "Precision = 0.09\n",
      "Recall = 0.06\n"
     ]
    }
   ],
   "source": [
    "print_stats(test_data_y, iso_predict)"
   ]
  },
  {
   "cell_type": "code",
   "execution_count": 80,
   "id": "aa04731c",
   "metadata": {},
   "outputs": [],
   "source": [
    "##empty_df_iso = pd.DataFrame()"
   ]
  },
  {
   "cell_type": "code",
   "execution_count": 81,
   "id": "d1e3949f",
   "metadata": {},
   "outputs": [],
   "source": [
    "#empty_df_iso['scores']=iso_forest.decision_function(test_data_x.to_numpy())"
   ]
  },
  {
   "cell_type": "code",
   "execution_count": 82,
   "id": "16c8a37d",
   "metadata": {},
   "outputs": [],
   "source": [
    "#empty_df_iso['iso_f_label'] = iso_predict\n",
    "#outliers = empty_df.loc[empty_df['iso_f_label'] == -1]\n",
    "#outlier_index=list(outliers.index)\n",
    "#print(outlier_index)\n",
    "#Find the number of anomalies and normal points here points classified -1 are anomalous\n",
    "#benign, anomalous = empty_df_iso['iso_f_label'].value_counts()\n"
   ]
  },
  {
   "cell_type": "code",
   "execution_count": 83,
   "id": "4144980e",
   "metadata": {},
   "outputs": [],
   "source": [
    "#target_names= ['benign', 'anomalous']"
   ]
  },
  {
   "cell_type": "code",
   "execution_count": 84,
   "id": "67c31705",
   "metadata": {},
   "outputs": [],
   "source": [
    "# create a dictionary to map the values\n",
    "#label_map ={1: 0, -1:1}\n",
    "\n",
    "# replace the values in the label column\n",
    "#empty_df_iso.iso_f_label = empty_df_iso.iso_f_label.replace(label_map)\n",
    "\n"
   ]
  },
  {
   "cell_type": "code",
   "execution_count": null,
   "id": "a16f6e9e",
   "metadata": {},
   "outputs": [],
   "source": []
  },
  {
   "cell_type": "code",
   "execution_count": 85,
   "id": "5e6835c0",
   "metadata": {
    "scrolled": true
   },
   "outputs": [],
   "source": [
    "#print(classification_report(test_data_y.to_numpy(), empty_df_iso.iso_f_label.to_numpy()))"
   ]
  },
  {
   "cell_type": "code",
   "execution_count": null,
   "id": "0eb76ddd",
   "metadata": {
    "scrolled": true
   },
   "outputs": [],
   "source": []
  },
  {
   "cell_type": "markdown",
   "id": "0e884524",
   "metadata": {},
   "source": [
    "### Local Outlier Factor (LOF) Model"
   ]
  },
  {
   "cell_type": "code",
   "execution_count": 104,
   "id": "54d37d5f",
   "metadata": {},
   "outputs": [],
   "source": [
    "#train_data_x_n = normalize_columns(train_data_x, train_data_x.columns.values)\n",
    "test_data_x_n = normalize_columns(test_data_x, test_data_x.columns.values)"
   ]
  },
  {
   "cell_type": "code",
   "execution_count": 101,
   "id": "f7ae80a2",
   "metadata": {},
   "outputs": [],
   "source": [
    "#del test_data_x_n"
   ]
  },
  {
   "cell_type": "code",
   "execution_count": 105,
   "id": "81e8a082",
   "metadata": {
    "scrolled": false
   },
   "outputs": [
    {
     "data": {
      "text/html": [
       "<div>\n",
       "<style scoped>\n",
       "    .dataframe tbody tr th:only-of-type {\n",
       "        vertical-align: middle;\n",
       "    }\n",
       "\n",
       "    .dataframe tbody tr th {\n",
       "        vertical-align: top;\n",
       "    }\n",
       "\n",
       "    .dataframe thead th {\n",
       "        text-align: right;\n",
       "    }\n",
       "</style>\n",
       "<table border=\"1\" class=\"dataframe\">\n",
       "  <thead>\n",
       "    <tr style=\"text-align: right;\">\n",
       "      <th></th>\n",
       "      <th>Seq_Num</th>\n",
       "      <th>Ack_Num</th>\n",
       "      <th>TCP_Flag</th>\n",
       "      <th>TTL</th>\n",
       "      <th>Window_Size</th>\n",
       "      <th>TCP_Checksum</th>\n",
       "      <th>Packet_Length</th>\n",
       "      <th>Payload</th>\n",
       "    </tr>\n",
       "  </thead>\n",
       "  <tbody>\n",
       "    <tr>\n",
       "      <th>22494494</th>\n",
       "      <td>0.127062</td>\n",
       "      <td>0.861357</td>\n",
       "      <td>0.000000</td>\n",
       "      <td>0.496063</td>\n",
       "      <td>0.031327</td>\n",
       "      <td>0.900221</td>\n",
       "      <td>0.000620</td>\n",
       "      <td>0.597707</td>\n",
       "    </tr>\n",
       "    <tr>\n",
       "      <th>19821372</th>\n",
       "      <td>0.491287</td>\n",
       "      <td>0.939800</td>\n",
       "      <td>0.000000</td>\n",
       "      <td>0.496063</td>\n",
       "      <td>0.031266</td>\n",
       "      <td>0.753826</td>\n",
       "      <td>0.000620</td>\n",
       "      <td>0.658946</td>\n",
       "    </tr>\n",
       "    <tr>\n",
       "      <th>19123769</th>\n",
       "      <td>0.094252</td>\n",
       "      <td>0.265552</td>\n",
       "      <td>0.000000</td>\n",
       "      <td>0.496063</td>\n",
       "      <td>0.031327</td>\n",
       "      <td>0.153933</td>\n",
       "      <td>0.000620</td>\n",
       "      <td>0.587121</td>\n",
       "    </tr>\n",
       "    <tr>\n",
       "      <th>4121696</th>\n",
       "      <td>0.540496</td>\n",
       "      <td>0.322804</td>\n",
       "      <td>0.000000</td>\n",
       "      <td>0.500000</td>\n",
       "      <td>0.003891</td>\n",
       "      <td>0.540185</td>\n",
       "      <td>0.000636</td>\n",
       "      <td>0.606859</td>\n",
       "    </tr>\n",
       "    <tr>\n",
       "      <th>1892179</th>\n",
       "      <td>0.823233</td>\n",
       "      <td>0.000000</td>\n",
       "      <td>0.727273</td>\n",
       "      <td>0.500000</td>\n",
       "      <td>0.125002</td>\n",
       "      <td>0.256107</td>\n",
       "      <td>0.000806</td>\n",
       "      <td>0.537198</td>\n",
       "    </tr>\n",
       "  </tbody>\n",
       "</table>\n",
       "</div>"
      ],
      "text/plain": [
       "           Seq_Num   Ack_Num  TCP_Flag       TTL  Window_Size  TCP_Checksum  \\\n",
       "22494494  0.127062  0.861357  0.000000  0.496063     0.031327      0.900221   \n",
       "19821372  0.491287  0.939800  0.000000  0.496063     0.031266      0.753826   \n",
       "19123769  0.094252  0.265552  0.000000  0.496063     0.031327      0.153933   \n",
       "4121696   0.540496  0.322804  0.000000  0.500000     0.003891      0.540185   \n",
       "1892179   0.823233  0.000000  0.727273  0.500000     0.125002      0.256107   \n",
       "\n",
       "          Packet_Length   Payload  \n",
       "22494494       0.000620  0.597707  \n",
       "19821372       0.000620  0.658946  \n",
       "19123769       0.000620  0.587121  \n",
       "4121696        0.000636  0.606859  \n",
       "1892179        0.000806  0.537198  "
      ]
     },
     "execution_count": 105,
     "metadata": {},
     "output_type": "execute_result"
    }
   ],
   "source": [
    "test_data_x_n.head()"
   ]
  },
  {
   "cell_type": "code",
   "execution_count": 120,
   "id": "8fdfad3e",
   "metadata": {},
   "outputs": [],
   "source": [
    "lof = LocalOutlierFactor(n_neighbors=100, algorithm='auto', leaf_size=100, metric='minkowski', p=2, metric_params=None, contamination=0.5, novelty=False, n_jobs=-1)"
   ]
  },
  {
   "cell_type": "code",
   "execution_count": 121,
   "id": "018c5c54",
   "metadata": {},
   "outputs": [],
   "source": [
    "lof_pred = lof.fit_predict(test_data_x_n)"
   ]
  },
  {
   "cell_type": "code",
   "execution_count": null,
   "id": "78d96bb9",
   "metadata": {},
   "outputs": [],
   "source": [
    "lof_pred = 1 - ((lof_pred + 1)/ 2)"
   ]
  },
  {
   "cell_type": "code",
   "execution_count": 313,
   "id": "8247a796",
   "metadata": {
    "scrolled": false
   },
   "outputs": [
    {
     "name": "stdout",
     "output_type": "stream",
     "text": [
      "Accuracy = 0.683292446188774\n",
      "Precision = 0.9923662856525247\n",
      "Recall = 0.5713336189674593\n",
      "None\n"
     ]
    }
   ],
   "source": [
    "print(print_stats(test_data_y.to_numpy(), lof_pred))"
   ]
  },
  {
   "cell_type": "code",
   "execution_count": 312,
   "id": "27f5a7c0",
   "metadata": {},
   "outputs": [
    {
     "data": {
      "image/png": "[encoded data removed]",
      "text/plain": [
       "<Figure size 432x288 with 2 Axes>"
      ]
     },
     "metadata": {
      "needs_background": "light"
     },
     "output_type": "display_data"
    }
   ],
   "source": [
    "ConfusionMatrixDisplay.from_predictions(test_data_y.to_numpy(), lof_pred)\n",
    "plt.show()"
   ]
  }
 ],
 "metadata": {
  "kernelspec": {
   "display_name": "Python 3 (ipykernel)",
   "language": "python",
   "name": "python3"
  },
  "language_info": {
   "codemirror_mode": {
    "name": "ipython",
    "version": 3
   },
   "file_extension": ".py",
   "mimetype": "text/x-python",
   "name": "python",
   "nbconvert_exporter": "python",
   "pygments_lexer": "ipython3",
   "version": "3.9.12"
  }
 },
 "nbformat": 4,
 "nbformat_minor": 5
}
